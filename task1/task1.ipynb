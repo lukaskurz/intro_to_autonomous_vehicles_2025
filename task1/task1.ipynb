{
 "cells": [
  {
   "cell_type": "markdown",
   "id": "fdb5979b",
   "metadata": {},
   "source": [
    "# Introduction to autonomous vehicles - Task 1 Perception\n",
    "\n",
    "## Task Description\n",
    "\n",
    "Select a Dataset of road traffic containing annotated objects. \n",
    "Please select a method and use this dataset to train a model to detect and classify **Pedestrians, Cyclists and Vehicles** on a Video Clip. \n",
    "The video clip could be from the dataset or from other sources.\n",
    "\n",
    "**Available Datasets:**\n",
    "\n",
    "- [KITTI Dataset](https://www.cvlibs.net/datasets/kitti/eval_object.php?obj_benchmark)\n",
    "- [COCO Dataset](https://cocodataset.org/)\n",
    "- [Waymo Dataset](https://console.cloud.google.com/storage/browser/waymo_open_dataset_v_1_2_0_individual_files)\n",
    "  - **Note:** You might have to first register [here](https://waymo.com/open/) to get access to the dataset.\n",
    "\n",
    "**Rules:**\n",
    "\n",
    "- Use whatever framework you prefer (Pytroch, Tensorflow, ultralytics, etc.)\n",
    "- Recommended to use any version of YOLO\n",
    "- Use the code from the GitHub repository of the previous mentioned or other published methods (e.g. https://github.com/ultralytics/yolov3)\n",
    "- Use pretrained weights\n",
    "  - **Note:** You can use the pretrained weights, but you have to train and adapt them to your dataset."
   ]
  },
  {
   "cell_type": "markdown",
   "id": "d1ad3745",
   "metadata": {},
   "source": [
    "## Setup\n",
    "\n",
    "**Requirements:**\n",
    "\n",
    "You should set up the environment accordingly. For now you can use the below code to install the required packages."
   ]
  },
  {
   "cell_type": "code",
   "execution_count": 6,
   "id": "9e8f737b",
   "metadata": {},
   "outputs": [
    {
     "name": "stdout",
     "output_type": "stream",
     "text": [
      "Requirement already satisfied: torch in /home/lukas-kurz/Desktop/autonomous_driving/intro_to_autonomous_vehicles_2025/.conda/lib/python3.11/site-packages (2.6.0)\n",
      "Requirement already satisfied: torchvision in /home/lukas-kurz/Desktop/autonomous_driving/intro_to_autonomous_vehicles_2025/.conda/lib/python3.11/site-packages (0.21.0)\n",
      "Requirement already satisfied: torchaudio in /home/lukas-kurz/Desktop/autonomous_driving/intro_to_autonomous_vehicles_2025/.conda/lib/python3.11/site-packages (2.6.0)\n",
      "Requirement already satisfied: filelock in /home/lukas-kurz/Desktop/autonomous_driving/intro_to_autonomous_vehicles_2025/.conda/lib/python3.11/site-packages (from torch) (3.17.0)\n",
      "Requirement already satisfied: typing-extensions>=4.10.0 in /home/lukas-kurz/Desktop/autonomous_driving/intro_to_autonomous_vehicles_2025/.conda/lib/python3.11/site-packages (from torch) (4.12.2)\n",
      "Requirement already satisfied: networkx in /home/lukas-kurz/Desktop/autonomous_driving/intro_to_autonomous_vehicles_2025/.conda/lib/python3.11/site-packages (from torch) (3.4.2)\n",
      "Requirement already satisfied: jinja2 in /home/lukas-kurz/Desktop/autonomous_driving/intro_to_autonomous_vehicles_2025/.conda/lib/python3.11/site-packages (from torch) (3.1.6)\n",
      "Requirement already satisfied: fsspec in /home/lukas-kurz/Desktop/autonomous_driving/intro_to_autonomous_vehicles_2025/.conda/lib/python3.11/site-packages (from torch) (2025.3.0)\n",
      "Requirement already satisfied: nvidia-cuda-nvrtc-cu12==12.4.127 in /home/lukas-kurz/Desktop/autonomous_driving/intro_to_autonomous_vehicles_2025/.conda/lib/python3.11/site-packages (from torch) (12.4.127)\n",
      "Requirement already satisfied: nvidia-cuda-runtime-cu12==12.4.127 in /home/lukas-kurz/Desktop/autonomous_driving/intro_to_autonomous_vehicles_2025/.conda/lib/python3.11/site-packages (from torch) (12.4.127)\n",
      "Requirement already satisfied: nvidia-cuda-cupti-cu12==12.4.127 in /home/lukas-kurz/Desktop/autonomous_driving/intro_to_autonomous_vehicles_2025/.conda/lib/python3.11/site-packages (from torch) (12.4.127)\n",
      "Requirement already satisfied: nvidia-cudnn-cu12==9.1.0.70 in /home/lukas-kurz/Desktop/autonomous_driving/intro_to_autonomous_vehicles_2025/.conda/lib/python3.11/site-packages (from torch) (9.1.0.70)\n",
      "Requirement already satisfied: nvidia-cublas-cu12==12.4.5.8 in /home/lukas-kurz/Desktop/autonomous_driving/intro_to_autonomous_vehicles_2025/.conda/lib/python3.11/site-packages (from torch) (12.4.5.8)\n",
      "Requirement already satisfied: nvidia-cufft-cu12==11.2.1.3 in /home/lukas-kurz/Desktop/autonomous_driving/intro_to_autonomous_vehicles_2025/.conda/lib/python3.11/site-packages (from torch) (11.2.1.3)\n",
      "Requirement already satisfied: nvidia-curand-cu12==10.3.5.147 in /home/lukas-kurz/Desktop/autonomous_driving/intro_to_autonomous_vehicles_2025/.conda/lib/python3.11/site-packages (from torch) (10.3.5.147)\n",
      "Requirement already satisfied: nvidia-cusolver-cu12==11.6.1.9 in /home/lukas-kurz/Desktop/autonomous_driving/intro_to_autonomous_vehicles_2025/.conda/lib/python3.11/site-packages (from torch) (11.6.1.9)\n",
      "Requirement already satisfied: nvidia-cusparse-cu12==12.3.1.170 in /home/lukas-kurz/Desktop/autonomous_driving/intro_to_autonomous_vehicles_2025/.conda/lib/python3.11/site-packages (from torch) (12.3.1.170)\n",
      "Requirement already satisfied: nvidia-cusparselt-cu12==0.6.2 in /home/lukas-kurz/Desktop/autonomous_driving/intro_to_autonomous_vehicles_2025/.conda/lib/python3.11/site-packages (from torch) (0.6.2)\n",
      "Requirement already satisfied: nvidia-nccl-cu12==2.21.5 in /home/lukas-kurz/Desktop/autonomous_driving/intro_to_autonomous_vehicles_2025/.conda/lib/python3.11/site-packages (from torch) (2.21.5)\n",
      "Requirement already satisfied: nvidia-nvtx-cu12==12.4.127 in /home/lukas-kurz/Desktop/autonomous_driving/intro_to_autonomous_vehicles_2025/.conda/lib/python3.11/site-packages (from torch) (12.4.127)\n",
      "Requirement already satisfied: nvidia-nvjitlink-cu12==12.4.127 in /home/lukas-kurz/Desktop/autonomous_driving/intro_to_autonomous_vehicles_2025/.conda/lib/python3.11/site-packages (from torch) (12.4.127)\n",
      "Requirement already satisfied: triton==3.2.0 in /home/lukas-kurz/Desktop/autonomous_driving/intro_to_autonomous_vehicles_2025/.conda/lib/python3.11/site-packages (from torch) (3.2.0)\n",
      "Requirement already satisfied: sympy==1.13.1 in /home/lukas-kurz/Desktop/autonomous_driving/intro_to_autonomous_vehicles_2025/.conda/lib/python3.11/site-packages (from torch) (1.13.1)\n",
      "Requirement already satisfied: mpmath<1.4,>=1.1.0 in /home/lukas-kurz/Desktop/autonomous_driving/intro_to_autonomous_vehicles_2025/.conda/lib/python3.11/site-packages (from sympy==1.13.1->torch) (1.3.0)\n",
      "Requirement already satisfied: numpy in /home/lukas-kurz/Desktop/autonomous_driving/intro_to_autonomous_vehicles_2025/.conda/lib/python3.11/site-packages (from torchvision) (2.1.1)\n",
      "Requirement already satisfied: pillow!=8.3.*,>=5.3.0 in /home/lukas-kurz/Desktop/autonomous_driving/intro_to_autonomous_vehicles_2025/.conda/lib/python3.11/site-packages (from torchvision) (11.1.0)\n",
      "Requirement already satisfied: MarkupSafe>=2.0 in /home/lukas-kurz/Desktop/autonomous_driving/intro_to_autonomous_vehicles_2025/.conda/lib/python3.11/site-packages (from jinja2->torch) (3.0.2)\n",
      "Requirement already satisfied: ipykernel in /home/lukas-kurz/Desktop/autonomous_driving/intro_to_autonomous_vehicles_2025/.conda/lib/python3.11/site-packages (6.29.5)\n",
      "Requirement already satisfied: comm>=0.1.1 in /home/lukas-kurz/Desktop/autonomous_driving/intro_to_autonomous_vehicles_2025/.conda/lib/python3.11/site-packages (from ipykernel) (0.2.2)\n",
      "Requirement already satisfied: debugpy>=1.6.5 in /home/lukas-kurz/Desktop/autonomous_driving/intro_to_autonomous_vehicles_2025/.conda/lib/python3.11/site-packages (from ipykernel) (1.8.13)\n",
      "Requirement already satisfied: ipython>=7.23.1 in /home/lukas-kurz/Desktop/autonomous_driving/intro_to_autonomous_vehicles_2025/.conda/lib/python3.11/site-packages (from ipykernel) (9.0.2)\n",
      "Requirement already satisfied: jupyter-client>=6.1.12 in /home/lukas-kurz/Desktop/autonomous_driving/intro_to_autonomous_vehicles_2025/.conda/lib/python3.11/site-packages (from ipykernel) (8.6.3)\n",
      "Requirement already satisfied: jupyter-core!=5.0.*,>=4.12 in /home/lukas-kurz/Desktop/autonomous_driving/intro_to_autonomous_vehicles_2025/.conda/lib/python3.11/site-packages (from ipykernel) (5.7.2)\n",
      "Requirement already satisfied: matplotlib-inline>=0.1 in /home/lukas-kurz/Desktop/autonomous_driving/intro_to_autonomous_vehicles_2025/.conda/lib/python3.11/site-packages (from ipykernel) (0.1.7)\n",
      "Requirement already satisfied: nest-asyncio in /home/lukas-kurz/Desktop/autonomous_driving/intro_to_autonomous_vehicles_2025/.conda/lib/python3.11/site-packages (from ipykernel) (1.6.0)\n",
      "Requirement already satisfied: packaging in /home/lukas-kurz/Desktop/autonomous_driving/intro_to_autonomous_vehicles_2025/.conda/lib/python3.11/site-packages (from ipykernel) (24.2)\n",
      "Requirement already satisfied: psutil in /home/lukas-kurz/Desktop/autonomous_driving/intro_to_autonomous_vehicles_2025/.conda/lib/python3.11/site-packages (from ipykernel) (7.0.0)\n",
      "Requirement already satisfied: pyzmq>=24 in /home/lukas-kurz/Desktop/autonomous_driving/intro_to_autonomous_vehicles_2025/.conda/lib/python3.11/site-packages (from ipykernel) (26.2.1)\n",
      "Requirement already satisfied: tornado>=6.1 in /home/lukas-kurz/Desktop/autonomous_driving/intro_to_autonomous_vehicles_2025/.conda/lib/python3.11/site-packages (from ipykernel) (6.4.2)\n",
      "Requirement already satisfied: traitlets>=5.4.0 in /home/lukas-kurz/Desktop/autonomous_driving/intro_to_autonomous_vehicles_2025/.conda/lib/python3.11/site-packages (from ipykernel) (5.14.3)\n",
      "Requirement already satisfied: decorator in /home/lukas-kurz/Desktop/autonomous_driving/intro_to_autonomous_vehicles_2025/.conda/lib/python3.11/site-packages (from ipython>=7.23.1->ipykernel) (5.2.1)\n",
      "Requirement already satisfied: ipython-pygments-lexers in /home/lukas-kurz/Desktop/autonomous_driving/intro_to_autonomous_vehicles_2025/.conda/lib/python3.11/site-packages (from ipython>=7.23.1->ipykernel) (1.1.1)\n",
      "Requirement already satisfied: jedi>=0.16 in /home/lukas-kurz/Desktop/autonomous_driving/intro_to_autonomous_vehicles_2025/.conda/lib/python3.11/site-packages (from ipython>=7.23.1->ipykernel) (0.19.2)\n",
      "Requirement already satisfied: pexpect>4.3 in /home/lukas-kurz/Desktop/autonomous_driving/intro_to_autonomous_vehicles_2025/.conda/lib/python3.11/site-packages (from ipython>=7.23.1->ipykernel) (4.9.0)\n",
      "Requirement already satisfied: prompt_toolkit<3.1.0,>=3.0.41 in /home/lukas-kurz/Desktop/autonomous_driving/intro_to_autonomous_vehicles_2025/.conda/lib/python3.11/site-packages (from ipython>=7.23.1->ipykernel) (3.0.50)\n",
      "Requirement already satisfied: pygments>=2.4.0 in /home/lukas-kurz/Desktop/autonomous_driving/intro_to_autonomous_vehicles_2025/.conda/lib/python3.11/site-packages (from ipython>=7.23.1->ipykernel) (2.19.1)\n",
      "Requirement already satisfied: stack_data in /home/lukas-kurz/Desktop/autonomous_driving/intro_to_autonomous_vehicles_2025/.conda/lib/python3.11/site-packages (from ipython>=7.23.1->ipykernel) (0.6.3)\n",
      "Requirement already satisfied: typing_extensions>=4.6 in /home/lukas-kurz/Desktop/autonomous_driving/intro_to_autonomous_vehicles_2025/.conda/lib/python3.11/site-packages (from ipython>=7.23.1->ipykernel) (4.12.2)\n",
      "Requirement already satisfied: python-dateutil>=2.8.2 in /home/lukas-kurz/Desktop/autonomous_driving/intro_to_autonomous_vehicles_2025/.conda/lib/python3.11/site-packages (from jupyter-client>=6.1.12->ipykernel) (2.9.0.post0)\n",
      "Requirement already satisfied: platformdirs>=2.5 in /home/lukas-kurz/Desktop/autonomous_driving/intro_to_autonomous_vehicles_2025/.conda/lib/python3.11/site-packages (from jupyter-core!=5.0.*,>=4.12->ipykernel) (4.3.6)\n",
      "Requirement already satisfied: parso<0.9.0,>=0.8.4 in /home/lukas-kurz/Desktop/autonomous_driving/intro_to_autonomous_vehicles_2025/.conda/lib/python3.11/site-packages (from jedi>=0.16->ipython>=7.23.1->ipykernel) (0.8.4)\n",
      "Requirement already satisfied: ptyprocess>=0.5 in /home/lukas-kurz/Desktop/autonomous_driving/intro_to_autonomous_vehicles_2025/.conda/lib/python3.11/site-packages (from pexpect>4.3->ipython>=7.23.1->ipykernel) (0.7.0)\n",
      "Requirement already satisfied: wcwidth in /home/lukas-kurz/Desktop/autonomous_driving/intro_to_autonomous_vehicles_2025/.conda/lib/python3.11/site-packages (from prompt_toolkit<3.1.0,>=3.0.41->ipython>=7.23.1->ipykernel) (0.2.13)\n",
      "Requirement already satisfied: six>=1.5 in /home/lukas-kurz/Desktop/autonomous_driving/intro_to_autonomous_vehicles_2025/.conda/lib/python3.11/site-packages (from python-dateutil>=2.8.2->jupyter-client>=6.1.12->ipykernel) (1.17.0)\n",
      "Requirement already satisfied: executing>=1.2.0 in /home/lukas-kurz/Desktop/autonomous_driving/intro_to_autonomous_vehicles_2025/.conda/lib/python3.11/site-packages (from stack_data->ipython>=7.23.1->ipykernel) (2.1.0)\n",
      "Requirement already satisfied: asttokens>=2.1.0 in /home/lukas-kurz/Desktop/autonomous_driving/intro_to_autonomous_vehicles_2025/.conda/lib/python3.11/site-packages (from stack_data->ipython>=7.23.1->ipykernel) (3.0.0)\n",
      "Requirement already satisfied: pure_eval in /home/lukas-kurz/Desktop/autonomous_driving/intro_to_autonomous_vehicles_2025/.conda/lib/python3.11/site-packages (from stack_data->ipython>=7.23.1->ipykernel) (0.2.3)\n",
      "Requirement already satisfied: jupyterlab in /home/lukas-kurz/Desktop/autonomous_driving/intro_to_autonomous_vehicles_2025/.conda/lib/python3.11/site-packages (4.3.5)\n",
      "Requirement already satisfied: async-lru>=1.0.0 in /home/lukas-kurz/Desktop/autonomous_driving/intro_to_autonomous_vehicles_2025/.conda/lib/python3.11/site-packages (from jupyterlab) (2.0.4)\n",
      "Requirement already satisfied: httpx>=0.25.0 in /home/lukas-kurz/Desktop/autonomous_driving/intro_to_autonomous_vehicles_2025/.conda/lib/python3.11/site-packages (from jupyterlab) (0.28.1)\n",
      "Requirement already satisfied: ipykernel>=6.5.0 in /home/lukas-kurz/Desktop/autonomous_driving/intro_to_autonomous_vehicles_2025/.conda/lib/python3.11/site-packages (from jupyterlab) (6.29.5)\n",
      "Requirement already satisfied: jinja2>=3.0.3 in /home/lukas-kurz/Desktop/autonomous_driving/intro_to_autonomous_vehicles_2025/.conda/lib/python3.11/site-packages (from jupyterlab) (3.1.6)\n",
      "Requirement already satisfied: jupyter-core in /home/lukas-kurz/Desktop/autonomous_driving/intro_to_autonomous_vehicles_2025/.conda/lib/python3.11/site-packages (from jupyterlab) (5.7.2)\n",
      "Requirement already satisfied: jupyter-lsp>=2.0.0 in /home/lukas-kurz/Desktop/autonomous_driving/intro_to_autonomous_vehicles_2025/.conda/lib/python3.11/site-packages (from jupyterlab) (2.2.5)\n",
      "Requirement already satisfied: jupyter-server<3,>=2.4.0 in /home/lukas-kurz/Desktop/autonomous_driving/intro_to_autonomous_vehicles_2025/.conda/lib/python3.11/site-packages (from jupyterlab) (2.15.0)\n",
      "Requirement already satisfied: jupyterlab-server<3,>=2.27.1 in /home/lukas-kurz/Desktop/autonomous_driving/intro_to_autonomous_vehicles_2025/.conda/lib/python3.11/site-packages (from jupyterlab) (2.27.3)\n",
      "Requirement already satisfied: notebook-shim>=0.2 in /home/lukas-kurz/Desktop/autonomous_driving/intro_to_autonomous_vehicles_2025/.conda/lib/python3.11/site-packages (from jupyterlab) (0.2.4)\n",
      "Requirement already satisfied: packaging in /home/lukas-kurz/Desktop/autonomous_driving/intro_to_autonomous_vehicles_2025/.conda/lib/python3.11/site-packages (from jupyterlab) (24.2)\n",
      "Requirement already satisfied: setuptools>=40.8.0 in /home/lukas-kurz/Desktop/autonomous_driving/intro_to_autonomous_vehicles_2025/.conda/lib/python3.11/site-packages (from jupyterlab) (75.8.0)\n",
      "Requirement already satisfied: tornado>=6.2.0 in /home/lukas-kurz/Desktop/autonomous_driving/intro_to_autonomous_vehicles_2025/.conda/lib/python3.11/site-packages (from jupyterlab) (6.4.2)\n",
      "Requirement already satisfied: traitlets in /home/lukas-kurz/Desktop/autonomous_driving/intro_to_autonomous_vehicles_2025/.conda/lib/python3.11/site-packages (from jupyterlab) (5.14.3)\n",
      "Requirement already satisfied: anyio in /home/lukas-kurz/Desktop/autonomous_driving/intro_to_autonomous_vehicles_2025/.conda/lib/python3.11/site-packages (from httpx>=0.25.0->jupyterlab) (4.8.0)\n",
      "Requirement already satisfied: certifi in /home/lukas-kurz/Desktop/autonomous_driving/intro_to_autonomous_vehicles_2025/.conda/lib/python3.11/site-packages (from httpx>=0.25.0->jupyterlab) (2025.1.31)\n",
      "Requirement already satisfied: httpcore==1.* in /home/lukas-kurz/Desktop/autonomous_driving/intro_to_autonomous_vehicles_2025/.conda/lib/python3.11/site-packages (from httpx>=0.25.0->jupyterlab) (1.0.7)\n",
      "Requirement already satisfied: idna in /home/lukas-kurz/Desktop/autonomous_driving/intro_to_autonomous_vehicles_2025/.conda/lib/python3.11/site-packages (from httpx>=0.25.0->jupyterlab) (3.10)\n",
      "Requirement already satisfied: h11<0.15,>=0.13 in /home/lukas-kurz/Desktop/autonomous_driving/intro_to_autonomous_vehicles_2025/.conda/lib/python3.11/site-packages (from httpcore==1.*->httpx>=0.25.0->jupyterlab) (0.14.0)\n",
      "Requirement already satisfied: comm>=0.1.1 in /home/lukas-kurz/Desktop/autonomous_driving/intro_to_autonomous_vehicles_2025/.conda/lib/python3.11/site-packages (from ipykernel>=6.5.0->jupyterlab) (0.2.2)\n",
      "Requirement already satisfied: debugpy>=1.6.5 in /home/lukas-kurz/Desktop/autonomous_driving/intro_to_autonomous_vehicles_2025/.conda/lib/python3.11/site-packages (from ipykernel>=6.5.0->jupyterlab) (1.8.13)\n",
      "Requirement already satisfied: ipython>=7.23.1 in /home/lukas-kurz/Desktop/autonomous_driving/intro_to_autonomous_vehicles_2025/.conda/lib/python3.11/site-packages (from ipykernel>=6.5.0->jupyterlab) (9.0.2)\n",
      "Requirement already satisfied: jupyter-client>=6.1.12 in /home/lukas-kurz/Desktop/autonomous_driving/intro_to_autonomous_vehicles_2025/.conda/lib/python3.11/site-packages (from ipykernel>=6.5.0->jupyterlab) (8.6.3)\n",
      "Requirement already satisfied: matplotlib-inline>=0.1 in /home/lukas-kurz/Desktop/autonomous_driving/intro_to_autonomous_vehicles_2025/.conda/lib/python3.11/site-packages (from ipykernel>=6.5.0->jupyterlab) (0.1.7)\n",
      "Requirement already satisfied: nest-asyncio in /home/lukas-kurz/Desktop/autonomous_driving/intro_to_autonomous_vehicles_2025/.conda/lib/python3.11/site-packages (from ipykernel>=6.5.0->jupyterlab) (1.6.0)\n",
      "Requirement already satisfied: psutil in /home/lukas-kurz/Desktop/autonomous_driving/intro_to_autonomous_vehicles_2025/.conda/lib/python3.11/site-packages (from ipykernel>=6.5.0->jupyterlab) (7.0.0)\n",
      "Requirement already satisfied: pyzmq>=24 in /home/lukas-kurz/Desktop/autonomous_driving/intro_to_autonomous_vehicles_2025/.conda/lib/python3.11/site-packages (from ipykernel>=6.5.0->jupyterlab) (26.2.1)\n",
      "Requirement already satisfied: MarkupSafe>=2.0 in /home/lukas-kurz/Desktop/autonomous_driving/intro_to_autonomous_vehicles_2025/.conda/lib/python3.11/site-packages (from jinja2>=3.0.3->jupyterlab) (3.0.2)\n",
      "Requirement already satisfied: platformdirs>=2.5 in /home/lukas-kurz/Desktop/autonomous_driving/intro_to_autonomous_vehicles_2025/.conda/lib/python3.11/site-packages (from jupyter-core->jupyterlab) (4.3.6)\n",
      "Requirement already satisfied: argon2-cffi>=21.1 in /home/lukas-kurz/Desktop/autonomous_driving/intro_to_autonomous_vehicles_2025/.conda/lib/python3.11/site-packages (from jupyter-server<3,>=2.4.0->jupyterlab) (23.1.0)\n",
      "Requirement already satisfied: jupyter-events>=0.11.0 in /home/lukas-kurz/Desktop/autonomous_driving/intro_to_autonomous_vehicles_2025/.conda/lib/python3.11/site-packages (from jupyter-server<3,>=2.4.0->jupyterlab) (0.12.0)\n",
      "Requirement already satisfied: jupyter-server-terminals>=0.4.4 in /home/lukas-kurz/Desktop/autonomous_driving/intro_to_autonomous_vehicles_2025/.conda/lib/python3.11/site-packages (from jupyter-server<3,>=2.4.0->jupyterlab) (0.5.3)\n",
      "Requirement already satisfied: nbconvert>=6.4.4 in /home/lukas-kurz/Desktop/autonomous_driving/intro_to_autonomous_vehicles_2025/.conda/lib/python3.11/site-packages (from jupyter-server<3,>=2.4.0->jupyterlab) (7.16.6)\n",
      "Requirement already satisfied: nbformat>=5.3.0 in /home/lukas-kurz/Desktop/autonomous_driving/intro_to_autonomous_vehicles_2025/.conda/lib/python3.11/site-packages (from jupyter-server<3,>=2.4.0->jupyterlab) (5.10.4)\n",
      "Requirement already satisfied: overrides>=5.0 in /home/lukas-kurz/Desktop/autonomous_driving/intro_to_autonomous_vehicles_2025/.conda/lib/python3.11/site-packages (from jupyter-server<3,>=2.4.0->jupyterlab) (7.7.0)\n",
      "Requirement already satisfied: prometheus-client>=0.9 in /home/lukas-kurz/Desktop/autonomous_driving/intro_to_autonomous_vehicles_2025/.conda/lib/python3.11/site-packages (from jupyter-server<3,>=2.4.0->jupyterlab) (0.21.1)\n",
      "Requirement already satisfied: send2trash>=1.8.2 in /home/lukas-kurz/Desktop/autonomous_driving/intro_to_autonomous_vehicles_2025/.conda/lib/python3.11/site-packages (from jupyter-server<3,>=2.4.0->jupyterlab) (1.8.3)\n",
      "Requirement already satisfied: terminado>=0.8.3 in /home/lukas-kurz/Desktop/autonomous_driving/intro_to_autonomous_vehicles_2025/.conda/lib/python3.11/site-packages (from jupyter-server<3,>=2.4.0->jupyterlab) (0.18.1)\n",
      "Requirement already satisfied: websocket-client>=1.7 in /home/lukas-kurz/Desktop/autonomous_driving/intro_to_autonomous_vehicles_2025/.conda/lib/python3.11/site-packages (from jupyter-server<3,>=2.4.0->jupyterlab) (1.8.0)\n",
      "Requirement already satisfied: babel>=2.10 in /home/lukas-kurz/Desktop/autonomous_driving/intro_to_autonomous_vehicles_2025/.conda/lib/python3.11/site-packages (from jupyterlab-server<3,>=2.27.1->jupyterlab) (2.17.0)\n",
      "Requirement already satisfied: json5>=0.9.0 in /home/lukas-kurz/Desktop/autonomous_driving/intro_to_autonomous_vehicles_2025/.conda/lib/python3.11/site-packages (from jupyterlab-server<3,>=2.27.1->jupyterlab) (0.10.0)\n",
      "Requirement already satisfied: jsonschema>=4.18.0 in /home/lukas-kurz/Desktop/autonomous_driving/intro_to_autonomous_vehicles_2025/.conda/lib/python3.11/site-packages (from jupyterlab-server<3,>=2.27.1->jupyterlab) (4.23.0)\n",
      "Requirement already satisfied: requests>=2.31 in /home/lukas-kurz/Desktop/autonomous_driving/intro_to_autonomous_vehicles_2025/.conda/lib/python3.11/site-packages (from jupyterlab-server<3,>=2.27.1->jupyterlab) (2.32.3)\n",
      "Requirement already satisfied: sniffio>=1.1 in /home/lukas-kurz/Desktop/autonomous_driving/intro_to_autonomous_vehicles_2025/.conda/lib/python3.11/site-packages (from anyio->httpx>=0.25.0->jupyterlab) (1.3.1)\n",
      "Requirement already satisfied: typing_extensions>=4.5 in /home/lukas-kurz/Desktop/autonomous_driving/intro_to_autonomous_vehicles_2025/.conda/lib/python3.11/site-packages (from anyio->httpx>=0.25.0->jupyterlab) (4.12.2)\n",
      "Requirement already satisfied: argon2-cffi-bindings in /home/lukas-kurz/Desktop/autonomous_driving/intro_to_autonomous_vehicles_2025/.conda/lib/python3.11/site-packages (from argon2-cffi>=21.1->jupyter-server<3,>=2.4.0->jupyterlab) (21.2.0)\n",
      "Requirement already satisfied: decorator in /home/lukas-kurz/Desktop/autonomous_driving/intro_to_autonomous_vehicles_2025/.conda/lib/python3.11/site-packages (from ipython>=7.23.1->ipykernel>=6.5.0->jupyterlab) (5.2.1)\n",
      "Requirement already satisfied: ipython-pygments-lexers in /home/lukas-kurz/Desktop/autonomous_driving/intro_to_autonomous_vehicles_2025/.conda/lib/python3.11/site-packages (from ipython>=7.23.1->ipykernel>=6.5.0->jupyterlab) (1.1.1)\n",
      "Requirement already satisfied: jedi>=0.16 in /home/lukas-kurz/Desktop/autonomous_driving/intro_to_autonomous_vehicles_2025/.conda/lib/python3.11/site-packages (from ipython>=7.23.1->ipykernel>=6.5.0->jupyterlab) (0.19.2)\n",
      "Requirement already satisfied: pexpect>4.3 in /home/lukas-kurz/Desktop/autonomous_driving/intro_to_autonomous_vehicles_2025/.conda/lib/python3.11/site-packages (from ipython>=7.23.1->ipykernel>=6.5.0->jupyterlab) (4.9.0)\n",
      "Requirement already satisfied: prompt_toolkit<3.1.0,>=3.0.41 in /home/lukas-kurz/Desktop/autonomous_driving/intro_to_autonomous_vehicles_2025/.conda/lib/python3.11/site-packages (from ipython>=7.23.1->ipykernel>=6.5.0->jupyterlab) (3.0.50)\n",
      "Requirement already satisfied: pygments>=2.4.0 in /home/lukas-kurz/Desktop/autonomous_driving/intro_to_autonomous_vehicles_2025/.conda/lib/python3.11/site-packages (from ipython>=7.23.1->ipykernel>=6.5.0->jupyterlab) (2.19.1)\n",
      "Requirement already satisfied: stack_data in /home/lukas-kurz/Desktop/autonomous_driving/intro_to_autonomous_vehicles_2025/.conda/lib/python3.11/site-packages (from ipython>=7.23.1->ipykernel>=6.5.0->jupyterlab) (0.6.3)\n",
      "Requirement already satisfied: attrs>=22.2.0 in /home/lukas-kurz/Desktop/autonomous_driving/intro_to_autonomous_vehicles_2025/.conda/lib/python3.11/site-packages (from jsonschema>=4.18.0->jupyterlab-server<3,>=2.27.1->jupyterlab) (25.1.0)\n",
      "Requirement already satisfied: jsonschema-specifications>=2023.03.6 in /home/lukas-kurz/Desktop/autonomous_driving/intro_to_autonomous_vehicles_2025/.conda/lib/python3.11/site-packages (from jsonschema>=4.18.0->jupyterlab-server<3,>=2.27.1->jupyterlab) (2024.10.1)\n",
      "Requirement already satisfied: referencing>=0.28.4 in /home/lukas-kurz/Desktop/autonomous_driving/intro_to_autonomous_vehicles_2025/.conda/lib/python3.11/site-packages (from jsonschema>=4.18.0->jupyterlab-server<3,>=2.27.1->jupyterlab) (0.36.2)\n",
      "Requirement already satisfied: rpds-py>=0.7.1 in /home/lukas-kurz/Desktop/autonomous_driving/intro_to_autonomous_vehicles_2025/.conda/lib/python3.11/site-packages (from jsonschema>=4.18.0->jupyterlab-server<3,>=2.27.1->jupyterlab) (0.23.1)\n",
      "Requirement already satisfied: python-dateutil>=2.8.2 in /home/lukas-kurz/Desktop/autonomous_driving/intro_to_autonomous_vehicles_2025/.conda/lib/python3.11/site-packages (from jupyter-client>=6.1.12->ipykernel>=6.5.0->jupyterlab) (2.9.0.post0)\n",
      "Requirement already satisfied: python-json-logger>=2.0.4 in /home/lukas-kurz/Desktop/autonomous_driving/intro_to_autonomous_vehicles_2025/.conda/lib/python3.11/site-packages (from jupyter-events>=0.11.0->jupyter-server<3,>=2.4.0->jupyterlab) (3.3.0)\n",
      "Requirement already satisfied: pyyaml>=5.3 in /home/lukas-kurz/Desktop/autonomous_driving/intro_to_autonomous_vehicles_2025/.conda/lib/python3.11/site-packages (from jupyter-events>=0.11.0->jupyter-server<3,>=2.4.0->jupyterlab) (6.0.2)\n",
      "Requirement already satisfied: rfc3339-validator in /home/lukas-kurz/Desktop/autonomous_driving/intro_to_autonomous_vehicles_2025/.conda/lib/python3.11/site-packages (from jupyter-events>=0.11.0->jupyter-server<3,>=2.4.0->jupyterlab) (0.1.4)\n",
      "Requirement already satisfied: rfc3986-validator>=0.1.1 in /home/lukas-kurz/Desktop/autonomous_driving/intro_to_autonomous_vehicles_2025/.conda/lib/python3.11/site-packages (from jupyter-events>=0.11.0->jupyter-server<3,>=2.4.0->jupyterlab) (0.1.1)\n",
      "Requirement already satisfied: beautifulsoup4 in /home/lukas-kurz/Desktop/autonomous_driving/intro_to_autonomous_vehicles_2025/.conda/lib/python3.11/site-packages (from nbconvert>=6.4.4->jupyter-server<3,>=2.4.0->jupyterlab) (4.13.3)\n",
      "Requirement already satisfied: bleach!=5.0.0 in /home/lukas-kurz/Desktop/autonomous_driving/intro_to_autonomous_vehicles_2025/.conda/lib/python3.11/site-packages (from bleach[css]!=5.0.0->nbconvert>=6.4.4->jupyter-server<3,>=2.4.0->jupyterlab) (6.2.0)\n",
      "Requirement already satisfied: defusedxml in /home/lukas-kurz/Desktop/autonomous_driving/intro_to_autonomous_vehicles_2025/.conda/lib/python3.11/site-packages (from nbconvert>=6.4.4->jupyter-server<3,>=2.4.0->jupyterlab) (0.7.1)\n",
      "Requirement already satisfied: jupyterlab-pygments in /home/lukas-kurz/Desktop/autonomous_driving/intro_to_autonomous_vehicles_2025/.conda/lib/python3.11/site-packages (from nbconvert>=6.4.4->jupyter-server<3,>=2.4.0->jupyterlab) (0.3.0)\n",
      "Requirement already satisfied: mistune<4,>=2.0.3 in /home/lukas-kurz/Desktop/autonomous_driving/intro_to_autonomous_vehicles_2025/.conda/lib/python3.11/site-packages (from nbconvert>=6.4.4->jupyter-server<3,>=2.4.0->jupyterlab) (3.1.2)\n",
      "Requirement already satisfied: nbclient>=0.5.0 in /home/lukas-kurz/Desktop/autonomous_driving/intro_to_autonomous_vehicles_2025/.conda/lib/python3.11/site-packages (from nbconvert>=6.4.4->jupyter-server<3,>=2.4.0->jupyterlab) (0.10.2)\n",
      "Requirement already satisfied: pandocfilters>=1.4.1 in /home/lukas-kurz/Desktop/autonomous_driving/intro_to_autonomous_vehicles_2025/.conda/lib/python3.11/site-packages (from nbconvert>=6.4.4->jupyter-server<3,>=2.4.0->jupyterlab) (1.5.1)\n",
      "Requirement already satisfied: fastjsonschema>=2.15 in /home/lukas-kurz/Desktop/autonomous_driving/intro_to_autonomous_vehicles_2025/.conda/lib/python3.11/site-packages (from nbformat>=5.3.0->jupyter-server<3,>=2.4.0->jupyterlab) (2.21.1)\n",
      "Requirement already satisfied: charset-normalizer<4,>=2 in /home/lukas-kurz/Desktop/autonomous_driving/intro_to_autonomous_vehicles_2025/.conda/lib/python3.11/site-packages (from requests>=2.31->jupyterlab-server<3,>=2.27.1->jupyterlab) (3.4.1)\n",
      "Requirement already satisfied: urllib3<3,>=1.21.1 in /home/lukas-kurz/Desktop/autonomous_driving/intro_to_autonomous_vehicles_2025/.conda/lib/python3.11/site-packages (from requests>=2.31->jupyterlab-server<3,>=2.27.1->jupyterlab) (2.3.0)\n",
      "Requirement already satisfied: ptyprocess in /home/lukas-kurz/Desktop/autonomous_driving/intro_to_autonomous_vehicles_2025/.conda/lib/python3.11/site-packages (from terminado>=0.8.3->jupyter-server<3,>=2.4.0->jupyterlab) (0.7.0)\n",
      "Requirement already satisfied: webencodings in /home/lukas-kurz/Desktop/autonomous_driving/intro_to_autonomous_vehicles_2025/.conda/lib/python3.11/site-packages (from bleach!=5.0.0->bleach[css]!=5.0.0->nbconvert>=6.4.4->jupyter-server<3,>=2.4.0->jupyterlab) (0.5.1)\n",
      "Requirement already satisfied: tinycss2<1.5,>=1.1.0 in /home/lukas-kurz/Desktop/autonomous_driving/intro_to_autonomous_vehicles_2025/.conda/lib/python3.11/site-packages (from bleach[css]!=5.0.0->nbconvert>=6.4.4->jupyter-server<3,>=2.4.0->jupyterlab) (1.4.0)\n",
      "Requirement already satisfied: parso<0.9.0,>=0.8.4 in /home/lukas-kurz/Desktop/autonomous_driving/intro_to_autonomous_vehicles_2025/.conda/lib/python3.11/site-packages (from jedi>=0.16->ipython>=7.23.1->ipykernel>=6.5.0->jupyterlab) (0.8.4)\n",
      "Requirement already satisfied: fqdn in /home/lukas-kurz/Desktop/autonomous_driving/intro_to_autonomous_vehicles_2025/.conda/lib/python3.11/site-packages (from jsonschema[format-nongpl]>=4.18.0->jupyter-events>=0.11.0->jupyter-server<3,>=2.4.0->jupyterlab) (1.5.1)\n",
      "Requirement already satisfied: isoduration in /home/lukas-kurz/Desktop/autonomous_driving/intro_to_autonomous_vehicles_2025/.conda/lib/python3.11/site-packages (from jsonschema[format-nongpl]>=4.18.0->jupyter-events>=0.11.0->jupyter-server<3,>=2.4.0->jupyterlab) (20.11.0)\n",
      "Requirement already satisfied: jsonpointer>1.13 in /home/lukas-kurz/Desktop/autonomous_driving/intro_to_autonomous_vehicles_2025/.conda/lib/python3.11/site-packages (from jsonschema[format-nongpl]>=4.18.0->jupyter-events>=0.11.0->jupyter-server<3,>=2.4.0->jupyterlab) (3.0.0)\n",
      "Requirement already satisfied: uri-template in /home/lukas-kurz/Desktop/autonomous_driving/intro_to_autonomous_vehicles_2025/.conda/lib/python3.11/site-packages (from jsonschema[format-nongpl]>=4.18.0->jupyter-events>=0.11.0->jupyter-server<3,>=2.4.0->jupyterlab) (1.3.0)\n",
      "Requirement already satisfied: webcolors>=24.6.0 in /home/lukas-kurz/Desktop/autonomous_driving/intro_to_autonomous_vehicles_2025/.conda/lib/python3.11/site-packages (from jsonschema[format-nongpl]>=4.18.0->jupyter-events>=0.11.0->jupyter-server<3,>=2.4.0->jupyterlab) (24.11.1)\n",
      "Requirement already satisfied: wcwidth in /home/lukas-kurz/Desktop/autonomous_driving/intro_to_autonomous_vehicles_2025/.conda/lib/python3.11/site-packages (from prompt_toolkit<3.1.0,>=3.0.41->ipython>=7.23.1->ipykernel>=6.5.0->jupyterlab) (0.2.13)\n",
      "Requirement already satisfied: six>=1.5 in /home/lukas-kurz/Desktop/autonomous_driving/intro_to_autonomous_vehicles_2025/.conda/lib/python3.11/site-packages (from python-dateutil>=2.8.2->jupyter-client>=6.1.12->ipykernel>=6.5.0->jupyterlab) (1.17.0)\n",
      "Requirement already satisfied: cffi>=1.0.1 in /home/lukas-kurz/Desktop/autonomous_driving/intro_to_autonomous_vehicles_2025/.conda/lib/python3.11/site-packages (from argon2-cffi-bindings->argon2-cffi>=21.1->jupyter-server<3,>=2.4.0->jupyterlab) (1.17.1)\n",
      "Requirement already satisfied: soupsieve>1.2 in /home/lukas-kurz/Desktop/autonomous_driving/intro_to_autonomous_vehicles_2025/.conda/lib/python3.11/site-packages (from beautifulsoup4->nbconvert>=6.4.4->jupyter-server<3,>=2.4.0->jupyterlab) (2.6)\n",
      "Requirement already satisfied: executing>=1.2.0 in /home/lukas-kurz/Desktop/autonomous_driving/intro_to_autonomous_vehicles_2025/.conda/lib/python3.11/site-packages (from stack_data->ipython>=7.23.1->ipykernel>=6.5.0->jupyterlab) (2.1.0)\n",
      "Requirement already satisfied: asttokens>=2.1.0 in /home/lukas-kurz/Desktop/autonomous_driving/intro_to_autonomous_vehicles_2025/.conda/lib/python3.11/site-packages (from stack_data->ipython>=7.23.1->ipykernel>=6.5.0->jupyterlab) (3.0.0)\n",
      "Requirement already satisfied: pure_eval in /home/lukas-kurz/Desktop/autonomous_driving/intro_to_autonomous_vehicles_2025/.conda/lib/python3.11/site-packages (from stack_data->ipython>=7.23.1->ipykernel>=6.5.0->jupyterlab) (0.2.3)\n",
      "Requirement already satisfied: pycparser in /home/lukas-kurz/Desktop/autonomous_driving/intro_to_autonomous_vehicles_2025/.conda/lib/python3.11/site-packages (from cffi>=1.0.1->argon2-cffi-bindings->argon2-cffi>=21.1->jupyter-server<3,>=2.4.0->jupyterlab) (2.22)\n",
      "Requirement already satisfied: arrow>=0.15.0 in /home/lukas-kurz/Desktop/autonomous_driving/intro_to_autonomous_vehicles_2025/.conda/lib/python3.11/site-packages (from isoduration->jsonschema[format-nongpl]>=4.18.0->jupyter-events>=0.11.0->jupyter-server<3,>=2.4.0->jupyterlab) (1.3.0)\n",
      "Requirement already satisfied: types-python-dateutil>=2.8.10 in /home/lukas-kurz/Desktop/autonomous_driving/intro_to_autonomous_vehicles_2025/.conda/lib/python3.11/site-packages (from arrow>=0.15.0->isoduration->jsonschema[format-nongpl]>=4.18.0->jupyter-events>=0.11.0->jupyter-server<3,>=2.4.0->jupyterlab) (2.9.0.20241206)\n",
      "Requirement already satisfied: pandas in /home/lukas-kurz/Desktop/autonomous_driving/intro_to_autonomous_vehicles_2025/.conda/lib/python3.11/site-packages (2.2.3)\n",
      "Requirement already satisfied: numpy>=1.23.2 in /home/lukas-kurz/Desktop/autonomous_driving/intro_to_autonomous_vehicles_2025/.conda/lib/python3.11/site-packages (from pandas) (2.1.1)\n",
      "Requirement already satisfied: python-dateutil>=2.8.2 in /home/lukas-kurz/Desktop/autonomous_driving/intro_to_autonomous_vehicles_2025/.conda/lib/python3.11/site-packages (from pandas) (2.9.0.post0)\n",
      "Requirement already satisfied: pytz>=2020.1 in /home/lukas-kurz/Desktop/autonomous_driving/intro_to_autonomous_vehicles_2025/.conda/lib/python3.11/site-packages (from pandas) (2025.1)\n",
      "Requirement already satisfied: tzdata>=2022.7 in /home/lukas-kurz/Desktop/autonomous_driving/intro_to_autonomous_vehicles_2025/.conda/lib/python3.11/site-packages (from pandas) (2025.1)\n",
      "Requirement already satisfied: six>=1.5 in /home/lukas-kurz/Desktop/autonomous_driving/intro_to_autonomous_vehicles_2025/.conda/lib/python3.11/site-packages (from python-dateutil>=2.8.2->pandas) (1.17.0)\n",
      "Requirement already satisfied: numpy in /home/lukas-kurz/Desktop/autonomous_driving/intro_to_autonomous_vehicles_2025/.conda/lib/python3.11/site-packages (2.1.1)\n",
      "Requirement already satisfied: matplotlib in /home/lukas-kurz/Desktop/autonomous_driving/intro_to_autonomous_vehicles_2025/.conda/lib/python3.11/site-packages (3.10.1)\n",
      "Requirement already satisfied: contourpy>=1.0.1 in /home/lukas-kurz/Desktop/autonomous_driving/intro_to_autonomous_vehicles_2025/.conda/lib/python3.11/site-packages (from matplotlib) (1.3.1)\n",
      "Requirement already satisfied: cycler>=0.10 in /home/lukas-kurz/Desktop/autonomous_driving/intro_to_autonomous_vehicles_2025/.conda/lib/python3.11/site-packages (from matplotlib) (0.12.1)\n",
      "Requirement already satisfied: fonttools>=4.22.0 in /home/lukas-kurz/Desktop/autonomous_driving/intro_to_autonomous_vehicles_2025/.conda/lib/python3.11/site-packages (from matplotlib) (4.56.0)\n",
      "Requirement already satisfied: kiwisolver>=1.3.1 in /home/lukas-kurz/Desktop/autonomous_driving/intro_to_autonomous_vehicles_2025/.conda/lib/python3.11/site-packages (from matplotlib) (1.4.8)\n",
      "Requirement already satisfied: numpy>=1.23 in /home/lukas-kurz/Desktop/autonomous_driving/intro_to_autonomous_vehicles_2025/.conda/lib/python3.11/site-packages (from matplotlib) (2.1.1)\n",
      "Requirement already satisfied: packaging>=20.0 in /home/lukas-kurz/Desktop/autonomous_driving/intro_to_autonomous_vehicles_2025/.conda/lib/python3.11/site-packages (from matplotlib) (24.2)\n",
      "Requirement already satisfied: pillow>=8 in /home/lukas-kurz/Desktop/autonomous_driving/intro_to_autonomous_vehicles_2025/.conda/lib/python3.11/site-packages (from matplotlib) (11.1.0)\n",
      "Requirement already satisfied: pyparsing>=2.3.1 in /home/lukas-kurz/Desktop/autonomous_driving/intro_to_autonomous_vehicles_2025/.conda/lib/python3.11/site-packages (from matplotlib) (3.2.1)\n",
      "Requirement already satisfied: python-dateutil>=2.7 in /home/lukas-kurz/Desktop/autonomous_driving/intro_to_autonomous_vehicles_2025/.conda/lib/python3.11/site-packages (from matplotlib) (2.9.0.post0)\n",
      "Requirement already satisfied: six>=1.5 in /home/lukas-kurz/Desktop/autonomous_driving/intro_to_autonomous_vehicles_2025/.conda/lib/python3.11/site-packages (from python-dateutil>=2.7->matplotlib) (1.17.0)\n",
      "Requirement already satisfied: scikit-learn in /home/lukas-kurz/Desktop/autonomous_driving/intro_to_autonomous_vehicles_2025/.conda/lib/python3.11/site-packages (1.6.1)\n",
      "Requirement already satisfied: numpy>=1.19.5 in /home/lukas-kurz/Desktop/autonomous_driving/intro_to_autonomous_vehicles_2025/.conda/lib/python3.11/site-packages (from scikit-learn) (2.1.1)\n",
      "Requirement already satisfied: scipy>=1.6.0 in /home/lukas-kurz/Desktop/autonomous_driving/intro_to_autonomous_vehicles_2025/.conda/lib/python3.11/site-packages (from scikit-learn) (1.15.2)\n",
      "Requirement already satisfied: joblib>=1.2.0 in /home/lukas-kurz/Desktop/autonomous_driving/intro_to_autonomous_vehicles_2025/.conda/lib/python3.11/site-packages (from scikit-learn) (1.4.2)\n",
      "Requirement already satisfied: threadpoolctl>=3.1.0 in /home/lukas-kurz/Desktop/autonomous_driving/intro_to_autonomous_vehicles_2025/.conda/lib/python3.11/site-packages (from scikit-learn) (3.5.0)\n",
      "Requirement already satisfied: seaborn in /home/lukas-kurz/Desktop/autonomous_driving/intro_to_autonomous_vehicles_2025/.conda/lib/python3.11/site-packages (0.13.2)\n",
      "Requirement already satisfied: numpy!=1.24.0,>=1.20 in /home/lukas-kurz/Desktop/autonomous_driving/intro_to_autonomous_vehicles_2025/.conda/lib/python3.11/site-packages (from seaborn) (2.1.1)\n",
      "Requirement already satisfied: pandas>=1.2 in /home/lukas-kurz/Desktop/autonomous_driving/intro_to_autonomous_vehicles_2025/.conda/lib/python3.11/site-packages (from seaborn) (2.2.3)\n",
      "Requirement already satisfied: matplotlib!=3.6.1,>=3.4 in /home/lukas-kurz/Desktop/autonomous_driving/intro_to_autonomous_vehicles_2025/.conda/lib/python3.11/site-packages (from seaborn) (3.10.1)\n",
      "Requirement already satisfied: contourpy>=1.0.1 in /home/lukas-kurz/Desktop/autonomous_driving/intro_to_autonomous_vehicles_2025/.conda/lib/python3.11/site-packages (from matplotlib!=3.6.1,>=3.4->seaborn) (1.3.1)\n",
      "Requirement already satisfied: cycler>=0.10 in /home/lukas-kurz/Desktop/autonomous_driving/intro_to_autonomous_vehicles_2025/.conda/lib/python3.11/site-packages (from matplotlib!=3.6.1,>=3.4->seaborn) (0.12.1)\n",
      "Requirement already satisfied: fonttools>=4.22.0 in /home/lukas-kurz/Desktop/autonomous_driving/intro_to_autonomous_vehicles_2025/.conda/lib/python3.11/site-packages (from matplotlib!=3.6.1,>=3.4->seaborn) (4.56.0)\n",
      "Requirement already satisfied: kiwisolver>=1.3.1 in /home/lukas-kurz/Desktop/autonomous_driving/intro_to_autonomous_vehicles_2025/.conda/lib/python3.11/site-packages (from matplotlib!=3.6.1,>=3.4->seaborn) (1.4.8)\n",
      "Requirement already satisfied: packaging>=20.0 in /home/lukas-kurz/Desktop/autonomous_driving/intro_to_autonomous_vehicles_2025/.conda/lib/python3.11/site-packages (from matplotlib!=3.6.1,>=3.4->seaborn) (24.2)\n",
      "Requirement already satisfied: pillow>=8 in /home/lukas-kurz/Desktop/autonomous_driving/intro_to_autonomous_vehicles_2025/.conda/lib/python3.11/site-packages (from matplotlib!=3.6.1,>=3.4->seaborn) (11.1.0)\n",
      "Requirement already satisfied: pyparsing>=2.3.1 in /home/lukas-kurz/Desktop/autonomous_driving/intro_to_autonomous_vehicles_2025/.conda/lib/python3.11/site-packages (from matplotlib!=3.6.1,>=3.4->seaborn) (3.2.1)\n",
      "Requirement already satisfied: python-dateutil>=2.7 in /home/lukas-kurz/Desktop/autonomous_driving/intro_to_autonomous_vehicles_2025/.conda/lib/python3.11/site-packages (from matplotlib!=3.6.1,>=3.4->seaborn) (2.9.0.post0)\n",
      "Requirement already satisfied: pytz>=2020.1 in /home/lukas-kurz/Desktop/autonomous_driving/intro_to_autonomous_vehicles_2025/.conda/lib/python3.11/site-packages (from pandas>=1.2->seaborn) (2025.1)\n",
      "Requirement already satisfied: tzdata>=2022.7 in /home/lukas-kurz/Desktop/autonomous_driving/intro_to_autonomous_vehicles_2025/.conda/lib/python3.11/site-packages (from pandas>=1.2->seaborn) (2025.1)\n",
      "Requirement already satisfied: six>=1.5 in /home/lukas-kurz/Desktop/autonomous_driving/intro_to_autonomous_vehicles_2025/.conda/lib/python3.11/site-packages (from python-dateutil>=2.7->matplotlib!=3.6.1,>=3.4->seaborn) (1.17.0)\n",
      "Requirement already satisfied: ultralytics in /home/lukas-kurz/Desktop/autonomous_driving/intro_to_autonomous_vehicles_2025/.conda/lib/python3.11/site-packages (8.3.86)\n",
      "Requirement already satisfied: numpy<=2.1.1,>=1.23.0 in /home/lukas-kurz/Desktop/autonomous_driving/intro_to_autonomous_vehicles_2025/.conda/lib/python3.11/site-packages (from ultralytics) (2.1.1)\n",
      "Requirement already satisfied: matplotlib>=3.3.0 in /home/lukas-kurz/Desktop/autonomous_driving/intro_to_autonomous_vehicles_2025/.conda/lib/python3.11/site-packages (from ultralytics) (3.10.1)\n",
      "Requirement already satisfied: opencv-python>=4.6.0 in /home/lukas-kurz/Desktop/autonomous_driving/intro_to_autonomous_vehicles_2025/.conda/lib/python3.11/site-packages (from ultralytics) (4.11.0.86)\n",
      "Requirement already satisfied: pillow>=7.1.2 in /home/lukas-kurz/Desktop/autonomous_driving/intro_to_autonomous_vehicles_2025/.conda/lib/python3.11/site-packages (from ultralytics) (11.1.0)\n",
      "Requirement already satisfied: pyyaml>=5.3.1 in /home/lukas-kurz/Desktop/autonomous_driving/intro_to_autonomous_vehicles_2025/.conda/lib/python3.11/site-packages (from ultralytics) (6.0.2)\n",
      "Requirement already satisfied: requests>=2.23.0 in /home/lukas-kurz/Desktop/autonomous_driving/intro_to_autonomous_vehicles_2025/.conda/lib/python3.11/site-packages (from ultralytics) (2.32.3)\n",
      "Requirement already satisfied: scipy>=1.4.1 in /home/lukas-kurz/Desktop/autonomous_driving/intro_to_autonomous_vehicles_2025/.conda/lib/python3.11/site-packages (from ultralytics) (1.15.2)\n",
      "Requirement already satisfied: torch>=1.8.0 in /home/lukas-kurz/Desktop/autonomous_driving/intro_to_autonomous_vehicles_2025/.conda/lib/python3.11/site-packages (from ultralytics) (2.6.0)\n",
      "Requirement already satisfied: torchvision>=0.9.0 in /home/lukas-kurz/Desktop/autonomous_driving/intro_to_autonomous_vehicles_2025/.conda/lib/python3.11/site-packages (from ultralytics) (0.21.0)\n",
      "Requirement already satisfied: tqdm>=4.64.0 in /home/lukas-kurz/Desktop/autonomous_driving/intro_to_autonomous_vehicles_2025/.conda/lib/python3.11/site-packages (from ultralytics) (4.67.1)\n",
      "Requirement already satisfied: psutil in /home/lukas-kurz/Desktop/autonomous_driving/intro_to_autonomous_vehicles_2025/.conda/lib/python3.11/site-packages (from ultralytics) (7.0.0)\n",
      "Requirement already satisfied: py-cpuinfo in /home/lukas-kurz/Desktop/autonomous_driving/intro_to_autonomous_vehicles_2025/.conda/lib/python3.11/site-packages (from ultralytics) (9.0.0)\n",
      "Requirement already satisfied: pandas>=1.1.4 in /home/lukas-kurz/Desktop/autonomous_driving/intro_to_autonomous_vehicles_2025/.conda/lib/python3.11/site-packages (from ultralytics) (2.2.3)\n",
      "Requirement already satisfied: seaborn>=0.11.0 in /home/lukas-kurz/Desktop/autonomous_driving/intro_to_autonomous_vehicles_2025/.conda/lib/python3.11/site-packages (from ultralytics) (0.13.2)\n",
      "Requirement already satisfied: ultralytics-thop>=2.0.0 in /home/lukas-kurz/Desktop/autonomous_driving/intro_to_autonomous_vehicles_2025/.conda/lib/python3.11/site-packages (from ultralytics) (2.0.14)\n",
      "Requirement already satisfied: contourpy>=1.0.1 in /home/lukas-kurz/Desktop/autonomous_driving/intro_to_autonomous_vehicles_2025/.conda/lib/python3.11/site-packages (from matplotlib>=3.3.0->ultralytics) (1.3.1)\n",
      "Requirement already satisfied: cycler>=0.10 in /home/lukas-kurz/Desktop/autonomous_driving/intro_to_autonomous_vehicles_2025/.conda/lib/python3.11/site-packages (from matplotlib>=3.3.0->ultralytics) (0.12.1)\n",
      "Requirement already satisfied: fonttools>=4.22.0 in /home/lukas-kurz/Desktop/autonomous_driving/intro_to_autonomous_vehicles_2025/.conda/lib/python3.11/site-packages (from matplotlib>=3.3.0->ultralytics) (4.56.0)\n",
      "Requirement already satisfied: kiwisolver>=1.3.1 in /home/lukas-kurz/Desktop/autonomous_driving/intro_to_autonomous_vehicles_2025/.conda/lib/python3.11/site-packages (from matplotlib>=3.3.0->ultralytics) (1.4.8)\n",
      "Requirement already satisfied: packaging>=20.0 in /home/lukas-kurz/Desktop/autonomous_driving/intro_to_autonomous_vehicles_2025/.conda/lib/python3.11/site-packages (from matplotlib>=3.3.0->ultralytics) (24.2)\n",
      "Requirement already satisfied: pyparsing>=2.3.1 in /home/lukas-kurz/Desktop/autonomous_driving/intro_to_autonomous_vehicles_2025/.conda/lib/python3.11/site-packages (from matplotlib>=3.3.0->ultralytics) (3.2.1)\n",
      "Requirement already satisfied: python-dateutil>=2.7 in /home/lukas-kurz/Desktop/autonomous_driving/intro_to_autonomous_vehicles_2025/.conda/lib/python3.11/site-packages (from matplotlib>=3.3.0->ultralytics) (2.9.0.post0)\n",
      "Requirement already satisfied: pytz>=2020.1 in /home/lukas-kurz/Desktop/autonomous_driving/intro_to_autonomous_vehicles_2025/.conda/lib/python3.11/site-packages (from pandas>=1.1.4->ultralytics) (2025.1)\n",
      "Requirement already satisfied: tzdata>=2022.7 in /home/lukas-kurz/Desktop/autonomous_driving/intro_to_autonomous_vehicles_2025/.conda/lib/python3.11/site-packages (from pandas>=1.1.4->ultralytics) (2025.1)\n",
      "Requirement already satisfied: charset-normalizer<4,>=2 in /home/lukas-kurz/Desktop/autonomous_driving/intro_to_autonomous_vehicles_2025/.conda/lib/python3.11/site-packages (from requests>=2.23.0->ultralytics) (3.4.1)\n",
      "Requirement already satisfied: idna<4,>=2.5 in /home/lukas-kurz/Desktop/autonomous_driving/intro_to_autonomous_vehicles_2025/.conda/lib/python3.11/site-packages (from requests>=2.23.0->ultralytics) (3.10)\n",
      "Requirement already satisfied: urllib3<3,>=1.21.1 in /home/lukas-kurz/Desktop/autonomous_driving/intro_to_autonomous_vehicles_2025/.conda/lib/python3.11/site-packages (from requests>=2.23.0->ultralytics) (2.3.0)\n",
      "Requirement already satisfied: certifi>=2017.4.17 in /home/lukas-kurz/Desktop/autonomous_driving/intro_to_autonomous_vehicles_2025/.conda/lib/python3.11/site-packages (from requests>=2.23.0->ultralytics) (2025.1.31)\n",
      "Requirement already satisfied: filelock in /home/lukas-kurz/Desktop/autonomous_driving/intro_to_autonomous_vehicles_2025/.conda/lib/python3.11/site-packages (from torch>=1.8.0->ultralytics) (3.17.0)\n",
      "Requirement already satisfied: typing-extensions>=4.10.0 in /home/lukas-kurz/Desktop/autonomous_driving/intro_to_autonomous_vehicles_2025/.conda/lib/python3.11/site-packages (from torch>=1.8.0->ultralytics) (4.12.2)\n",
      "Requirement already satisfied: networkx in /home/lukas-kurz/Desktop/autonomous_driving/intro_to_autonomous_vehicles_2025/.conda/lib/python3.11/site-packages (from torch>=1.8.0->ultralytics) (3.4.2)\n",
      "Requirement already satisfied: jinja2 in /home/lukas-kurz/Desktop/autonomous_driving/intro_to_autonomous_vehicles_2025/.conda/lib/python3.11/site-packages (from torch>=1.8.0->ultralytics) (3.1.6)\n",
      "Requirement already satisfied: fsspec in /home/lukas-kurz/Desktop/autonomous_driving/intro_to_autonomous_vehicles_2025/.conda/lib/python3.11/site-packages (from torch>=1.8.0->ultralytics) (2025.3.0)\n",
      "Requirement already satisfied: nvidia-cuda-nvrtc-cu12==12.4.127 in /home/lukas-kurz/Desktop/autonomous_driving/intro_to_autonomous_vehicles_2025/.conda/lib/python3.11/site-packages (from torch>=1.8.0->ultralytics) (12.4.127)\n",
      "Requirement already satisfied: nvidia-cuda-runtime-cu12==12.4.127 in /home/lukas-kurz/Desktop/autonomous_driving/intro_to_autonomous_vehicles_2025/.conda/lib/python3.11/site-packages (from torch>=1.8.0->ultralytics) (12.4.127)\n",
      "Requirement already satisfied: nvidia-cuda-cupti-cu12==12.4.127 in /home/lukas-kurz/Desktop/autonomous_driving/intro_to_autonomous_vehicles_2025/.conda/lib/python3.11/site-packages (from torch>=1.8.0->ultralytics) (12.4.127)\n",
      "Requirement already satisfied: nvidia-cudnn-cu12==9.1.0.70 in /home/lukas-kurz/Desktop/autonomous_driving/intro_to_autonomous_vehicles_2025/.conda/lib/python3.11/site-packages (from torch>=1.8.0->ultralytics) (9.1.0.70)\n",
      "Requirement already satisfied: nvidia-cublas-cu12==12.4.5.8 in /home/lukas-kurz/Desktop/autonomous_driving/intro_to_autonomous_vehicles_2025/.conda/lib/python3.11/site-packages (from torch>=1.8.0->ultralytics) (12.4.5.8)\n",
      "Requirement already satisfied: nvidia-cufft-cu12==11.2.1.3 in /home/lukas-kurz/Desktop/autonomous_driving/intro_to_autonomous_vehicles_2025/.conda/lib/python3.11/site-packages (from torch>=1.8.0->ultralytics) (11.2.1.3)\n",
      "Requirement already satisfied: nvidia-curand-cu12==10.3.5.147 in /home/lukas-kurz/Desktop/autonomous_driving/intro_to_autonomous_vehicles_2025/.conda/lib/python3.11/site-packages (from torch>=1.8.0->ultralytics) (10.3.5.147)\n",
      "Requirement already satisfied: nvidia-cusolver-cu12==11.6.1.9 in /home/lukas-kurz/Desktop/autonomous_driving/intro_to_autonomous_vehicles_2025/.conda/lib/python3.11/site-packages (from torch>=1.8.0->ultralytics) (11.6.1.9)\n",
      "Requirement already satisfied: nvidia-cusparse-cu12==12.3.1.170 in /home/lukas-kurz/Desktop/autonomous_driving/intro_to_autonomous_vehicles_2025/.conda/lib/python3.11/site-packages (from torch>=1.8.0->ultralytics) (12.3.1.170)\n",
      "Requirement already satisfied: nvidia-cusparselt-cu12==0.6.2 in /home/lukas-kurz/Desktop/autonomous_driving/intro_to_autonomous_vehicles_2025/.conda/lib/python3.11/site-packages (from torch>=1.8.0->ultralytics) (0.6.2)\n",
      "Requirement already satisfied: nvidia-nccl-cu12==2.21.5 in /home/lukas-kurz/Desktop/autonomous_driving/intro_to_autonomous_vehicles_2025/.conda/lib/python3.11/site-packages (from torch>=1.8.0->ultralytics) (2.21.5)\n",
      "Requirement already satisfied: nvidia-nvtx-cu12==12.4.127 in /home/lukas-kurz/Desktop/autonomous_driving/intro_to_autonomous_vehicles_2025/.conda/lib/python3.11/site-packages (from torch>=1.8.0->ultralytics) (12.4.127)\n",
      "Requirement already satisfied: nvidia-nvjitlink-cu12==12.4.127 in /home/lukas-kurz/Desktop/autonomous_driving/intro_to_autonomous_vehicles_2025/.conda/lib/python3.11/site-packages (from torch>=1.8.0->ultralytics) (12.4.127)\n",
      "Requirement already satisfied: triton==3.2.0 in /home/lukas-kurz/Desktop/autonomous_driving/intro_to_autonomous_vehicles_2025/.conda/lib/python3.11/site-packages (from torch>=1.8.0->ultralytics) (3.2.0)\n",
      "Requirement already satisfied: sympy==1.13.1 in /home/lukas-kurz/Desktop/autonomous_driving/intro_to_autonomous_vehicles_2025/.conda/lib/python3.11/site-packages (from torch>=1.8.0->ultralytics) (1.13.1)\n",
      "Requirement already satisfied: mpmath<1.4,>=1.1.0 in /home/lukas-kurz/Desktop/autonomous_driving/intro_to_autonomous_vehicles_2025/.conda/lib/python3.11/site-packages (from sympy==1.13.1->torch>=1.8.0->ultralytics) (1.3.0)\n",
      "Requirement already satisfied: six>=1.5 in /home/lukas-kurz/Desktop/autonomous_driving/intro_to_autonomous_vehicles_2025/.conda/lib/python3.11/site-packages (from python-dateutil>=2.7->matplotlib>=3.3.0->ultralytics) (1.17.0)\n",
      "Requirement already satisfied: MarkupSafe>=2.0 in /home/lukas-kurz/Desktop/autonomous_driving/intro_to_autonomous_vehicles_2025/.conda/lib/python3.11/site-packages (from jinja2->torch>=1.8.0->ultralytics) (3.0.2)\n",
      "Requirement already satisfied: wandb in /home/lukas-kurz/Desktop/autonomous_driving/intro_to_autonomous_vehicles_2025/.conda/lib/python3.11/site-packages (0.19.8)\n",
      "Requirement already satisfied: click!=8.0.0,>=7.1 in /home/lukas-kurz/Desktop/autonomous_driving/intro_to_autonomous_vehicles_2025/.conda/lib/python3.11/site-packages (from wandb) (8.1.8)\n",
      "Requirement already satisfied: docker-pycreds>=0.4.0 in /home/lukas-kurz/Desktop/autonomous_driving/intro_to_autonomous_vehicles_2025/.conda/lib/python3.11/site-packages (from wandb) (0.4.0)\n",
      "Requirement already satisfied: gitpython!=3.1.29,>=1.0.0 in /home/lukas-kurz/Desktop/autonomous_driving/intro_to_autonomous_vehicles_2025/.conda/lib/python3.11/site-packages (from wandb) (3.1.44)\n",
      "Requirement already satisfied: platformdirs in /home/lukas-kurz/Desktop/autonomous_driving/intro_to_autonomous_vehicles_2025/.conda/lib/python3.11/site-packages (from wandb) (4.3.6)\n",
      "Requirement already satisfied: protobuf!=4.21.0,!=5.28.0,<6,>=3.19.0 in /home/lukas-kurz/Desktop/autonomous_driving/intro_to_autonomous_vehicles_2025/.conda/lib/python3.11/site-packages (from wandb) (5.29.3)\n",
      "Requirement already satisfied: psutil>=5.0.0 in /home/lukas-kurz/Desktop/autonomous_driving/intro_to_autonomous_vehicles_2025/.conda/lib/python3.11/site-packages (from wandb) (7.0.0)\n",
      "Requirement already satisfied: pydantic<3,>=2.6 in /home/lukas-kurz/Desktop/autonomous_driving/intro_to_autonomous_vehicles_2025/.conda/lib/python3.11/site-packages (from wandb) (2.10.6)\n",
      "Requirement already satisfied: pyyaml in /home/lukas-kurz/Desktop/autonomous_driving/intro_to_autonomous_vehicles_2025/.conda/lib/python3.11/site-packages (from wandb) (6.0.2)\n",
      "Requirement already satisfied: requests<3,>=2.0.0 in /home/lukas-kurz/Desktop/autonomous_driving/intro_to_autonomous_vehicles_2025/.conda/lib/python3.11/site-packages (from wandb) (2.32.3)\n",
      "Requirement already satisfied: sentry-sdk>=2.0.0 in /home/lukas-kurz/Desktop/autonomous_driving/intro_to_autonomous_vehicles_2025/.conda/lib/python3.11/site-packages (from wandb) (2.22.0)\n",
      "Requirement already satisfied: setproctitle in /home/lukas-kurz/Desktop/autonomous_driving/intro_to_autonomous_vehicles_2025/.conda/lib/python3.11/site-packages (from wandb) (1.3.5)\n",
      "Requirement already satisfied: setuptools in /home/lukas-kurz/Desktop/autonomous_driving/intro_to_autonomous_vehicles_2025/.conda/lib/python3.11/site-packages (from wandb) (75.8.0)\n",
      "Requirement already satisfied: typing-extensions<5,>=4.4 in /home/lukas-kurz/Desktop/autonomous_driving/intro_to_autonomous_vehicles_2025/.conda/lib/python3.11/site-packages (from wandb) (4.12.2)\n",
      "Requirement already satisfied: six>=1.4.0 in /home/lukas-kurz/Desktop/autonomous_driving/intro_to_autonomous_vehicles_2025/.conda/lib/python3.11/site-packages (from docker-pycreds>=0.4.0->wandb) (1.17.0)\n",
      "Requirement already satisfied: gitdb<5,>=4.0.1 in /home/lukas-kurz/Desktop/autonomous_driving/intro_to_autonomous_vehicles_2025/.conda/lib/python3.11/site-packages (from gitpython!=3.1.29,>=1.0.0->wandb) (4.0.12)\n",
      "Requirement already satisfied: annotated-types>=0.6.0 in /home/lukas-kurz/Desktop/autonomous_driving/intro_to_autonomous_vehicles_2025/.conda/lib/python3.11/site-packages (from pydantic<3,>=2.6->wandb) (0.7.0)\n",
      "Requirement already satisfied: pydantic-core==2.27.2 in /home/lukas-kurz/Desktop/autonomous_driving/intro_to_autonomous_vehicles_2025/.conda/lib/python3.11/site-packages (from pydantic<3,>=2.6->wandb) (2.27.2)\n",
      "Requirement already satisfied: charset-normalizer<4,>=2 in /home/lukas-kurz/Desktop/autonomous_driving/intro_to_autonomous_vehicles_2025/.conda/lib/python3.11/site-packages (from requests<3,>=2.0.0->wandb) (3.4.1)\n",
      "Requirement already satisfied: idna<4,>=2.5 in /home/lukas-kurz/Desktop/autonomous_driving/intro_to_autonomous_vehicles_2025/.conda/lib/python3.11/site-packages (from requests<3,>=2.0.0->wandb) (3.10)\n",
      "Requirement already satisfied: urllib3<3,>=1.21.1 in /home/lukas-kurz/Desktop/autonomous_driving/intro_to_autonomous_vehicles_2025/.conda/lib/python3.11/site-packages (from requests<3,>=2.0.0->wandb) (2.3.0)\n",
      "Requirement already satisfied: certifi>=2017.4.17 in /home/lukas-kurz/Desktop/autonomous_driving/intro_to_autonomous_vehicles_2025/.conda/lib/python3.11/site-packages (from requests<3,>=2.0.0->wandb) (2025.1.31)\n",
      "Requirement already satisfied: smmap<6,>=3.0.1 in /home/lukas-kurz/Desktop/autonomous_driving/intro_to_autonomous_vehicles_2025/.conda/lib/python3.11/site-packages (from gitdb<5,>=4.0.1->gitpython!=3.1.29,>=1.0.0->wandb) (5.0.2)\n"
     ]
    }
   ],
   "source": [
    "!pip install torch torchvision torchaudio\n",
    "!pip install ipykernel\n",
    "!pip install jupyterlab\n",
    "!pip install pandas\n",
    "!pip install numpy\n",
    "!pip install matplotlib\n",
    "!pip install scikit-learn\n",
    "!pip install seaborn\n",
    "!pip install ultralytics\n",
    "!pip install wandb"
   ]
  },
  {
   "cell_type": "markdown",
   "id": "d5748d86",
   "metadata": {},
   "source": [
    "**Wandb settings:**\n",
    "\n",
    "Add a file named `wandb-api-key.txt` with your wandb API key in it so that we can login to wandb.\n",
    "\n",
    "```bash\n",
    "echo \"your_wandb_api_key\" > wandb-api-key.txt\n",
    "```"
   ]
  },
  {
   "cell_type": "code",
   "execution_count": 1,
   "id": "5dd8d247",
   "metadata": {},
   "outputs": [
    {
     "name": "stderr",
     "output_type": "stream",
     "text": [
      "\u001b[34m\u001b[1mwandb\u001b[0m: Using wandb-core as the SDK backend.  Please refer to https://wandb.me/wandb-core for more information.\n",
      "\u001b[34m\u001b[1mwandb\u001b[0m: \u001b[33mWARNING\u001b[0m If you're specifying your api key in code, ensure this code is not shared publicly.\n",
      "\u001b[34m\u001b[1mwandb\u001b[0m: \u001b[33mWARNING\u001b[0m Consider setting the WANDB_API_KEY environment variable, or running `wandb login` from the command line.\n",
      "\u001b[34m\u001b[1mwandb\u001b[0m: Appending key for api.wandb.ai to your netrc file: /home/lukas-kurz/.netrc\n",
      "\u001b[34m\u001b[1mwandb\u001b[0m: Currently logged in as: \u001b[33mkurzlukas\u001b[0m (\u001b[33mkurzlukas-johannes-kepler-universit-t-linz\u001b[0m) to \u001b[32mhttps://api.wandb.ai\u001b[0m. Use \u001b[1m`wandb login --relogin`\u001b[0m to force relogin\n"
     ]
    }
   ],
   "source": [
    "import wandb\n",
    "\n",
    "# Read wandb API key from file\n",
    "with open('../wandb-api-key.txt', 'r') as file:\n",
    "    wandb.login(key=file.read().strip())"
   ]
  },
  {
   "cell_type": "markdown",
   "id": "70d31ff2",
   "metadata": {},
   "source": [
    "**Ultralytics settings:**\n",
    "\n",
    "Ultralytics might have some leftover settings from another run or from the previous task. You can use the following code to reset the settings."
   ]
  },
  {
   "cell_type": "code",
   "execution_count": 2,
   "id": "604edfe5",
   "metadata": {},
   "outputs": [
    {
     "data": {
      "text/plain": [
       "{'settings_version': '0.0.6',\n",
       " 'datasets_dir': '/home/lukas-kurz/Desktop/autonomous_driving/intro_to_autonomous_vehicles_2025/datasets',\n",
       " 'weights_dir': '/home/lukas-kurz/Desktop/autonomous_driving/intro_to_autonomous_vehicles_2025/task1/weights',\n",
       " 'runs_dir': '/home/lukas-kurz/Desktop/autonomous_driving/intro_to_autonomous_vehicles_2025/task1/runs',\n",
       " 'uuid': 'f8376e8d76181ab673a86b3f562cfd88bbe4c72eeaa8b93b13c3c8c81b770686',\n",
       " 'sync': True,\n",
       " 'api_key': '',\n",
       " 'openai_api_key': '',\n",
       " 'clearml': True,\n",
       " 'comet': True,\n",
       " 'dvc': True,\n",
       " 'hub': True,\n",
       " 'mlflow': True,\n",
       " 'neptune': True,\n",
       " 'raytune': True,\n",
       " 'tensorboard': True,\n",
       " 'wandb': True,\n",
       " 'vscode_msg': True}"
      ]
     },
     "execution_count": 2,
     "metadata": {},
     "output_type": "execute_result"
    }
   ],
   "source": [
    "from ultralytics import settings\n",
    "from ultralytics import YOLO\n",
    "import os\n",
    "from pathlib import Path\n",
    "\n",
    "\n",
    "# Get current working directory from system\n",
    "working_dir = os.getcwd()\n",
    "settings['datasets_dir'] = Path(working_dir + '/../datasets').resolve().__str__()\n",
    "settings['weights_dir'] = Path(working_dir + '/weights').resolve().__str__()\n",
    "settings['runs_dir'] = Path(working_dir + '/runs').resolve().__str__()\n",
    "settings['wandb'] = True\n",
    "\n",
    "settings"
   ]
  },
  {
   "cell_type": "markdown",
   "id": "725fe953",
   "metadata": {},
   "source": [
    "## Dataset"
   ]
  },
  {
   "cell_type": "markdown",
   "id": "c7315e62",
   "metadata": {},
   "source": [
    "For our first project we chose the provided **COCO Dataset**\n",
    "\n",
    "It is an open dataset for region segmentation, that is hosted as a challenge. As such, **the test set annotations are not available**.\n",
    "\n",
    "The COCO dataset has 80 object categories, including common objects like cars, bicycles, and animals, as well as more specific categories such as umbrellas, handbags, and sports equipment. For our task we will not need all of these, but luckily with the implementation of ultralytics we can select a subset of these to train on.\n",
    "\n",
    "Concretely we will group them as:\n",
    "### Pedestrians\n",
    "* Person\n",
    "* Dog\n",
    "* Cow\n",
    "* Horse\n",
    "* Cat\n",
    "\n",
    "### Vehicle\n",
    "* Motorcycle\n",
    "* Bus\n",
    "* Car\n",
    "* Truck\n",
    "* Train\n",
    "\n",
    "### Cyclist\n",
    "* Bicycle\n",
    "\n"
   ]
  },
  {
   "cell_type": "markdown",
   "id": "750db610",
   "metadata": {},
   "source": [
    "TODO: visualize some of the stats of the dataset, as well as some example images with annotations"
   ]
  },
  {
   "cell_type": "code",
   "execution_count": null,
   "id": "d54b3948",
   "metadata": {},
   "outputs": [],
   "source": [
    "# Download the coco dataset either using the inhbuilt download from ultralytics and try to access it or just run a model train() to download the dataset in case its missing\n",
    "from ultralytics.data.dataset import YOLODataset\n",
    "\n"
   ]
  },
  {
   "cell_type": "markdown",
   "id": "8d895f1f",
   "metadata": {},
   "source": [
    "## Training"
   ]
  },
  {
   "cell_type": "markdown",
   "id": "5662fb55",
   "metadata": {},
   "source": [
    "For a first attempt, we can use ultralytics' implementation of a training without any augmentations, which we can add later to check and compare results."
   ]
  },
  {
   "cell_type": "markdown",
   "id": "881c196c",
   "metadata": {},
   "source": [
    "TODO: actually run and train the model with parameters setting like in: https://docs.ultralytics.com/modes/train/"
   ]
  },
  {
   "cell_type": "code",
   "execution_count": 4,
   "id": "95a82cac",
   "metadata": {},
   "outputs": [
    {
     "name": "stdout",
     "output_type": "stream",
     "text": [
      "Ultralytics 8.3.86 🚀 Python-3.11.11 torch-2.6.0+cu124 CUDA:0 (NVIDIA GeForce GTX 1080 Ti, 11143MiB)\n",
      "\u001b[34m\u001b[1mengine/trainer: \u001b[0mtask=detect, mode=train, model=yolo11n.pt, data=coco.yaml, epochs=2, time=None, patience=100, batch=16, imgsz=320, save=True, save_period=-1, cache=False, device=None, workers=8, project=None, name=train6, exist_ok=False, pretrained=True, optimizer=auto, verbose=True, seed=0, deterministic=True, single_cls=False, rect=False, cos_lr=False, close_mosaic=10, resume=False, amp=True, fraction=1.0, profile=False, freeze=None, multi_scale=False, overlap_mask=True, mask_ratio=4, dropout=0.0, val=True, split=val, save_json=False, save_hybrid=False, conf=None, iou=0.7, max_det=300, half=False, dnn=False, plots=True, source=None, vid_stride=1, stream_buffer=False, visualize=False, augment=False, agnostic_nms=False, classes=None, retina_masks=False, embed=None, show=False, save_frames=False, save_txt=False, save_conf=False, save_crop=False, show_labels=True, show_conf=True, show_boxes=True, line_width=None, format=torchscript, keras=False, optimize=False, int8=False, dynamic=False, simplify=True, opset=None, workspace=None, nms=False, lr0=0.01, lrf=0.01, momentum=0.937, weight_decay=0.0005, warmup_epochs=3.0, warmup_momentum=0.8, warmup_bias_lr=0.1, box=7.5, cls=0.5, dfl=1.5, pose=12.0, kobj=1.0, nbs=64, hsv_h=0.015, hsv_s=0.7, hsv_v=0.4, degrees=0.0, translate=0.1, scale=0.5, shear=0.0, perspective=0.0, flipud=0.0, fliplr=0.5, bgr=0.0, mosaic=1.0, mixup=0.0, copy_paste=0.0, copy_paste_mode=flip, auto_augment=randaugment, erasing=0.4, crop_fraction=1.0, cfg=None, tracker=botsort.yaml, save_dir=/home/lukas-kurz/Desktop/autonomous_driving/intro_to_autonomous_vehicles_2025/task1/runs/detect/train6\n",
      "\n",
      "                   from  n    params  module                                       arguments                     \n",
      "  0                  -1  1       464  ultralytics.nn.modules.conv.Conv             [3, 16, 3, 2]                 \n",
      "  1                  -1  1      4672  ultralytics.nn.modules.conv.Conv             [16, 32, 3, 2]                \n",
      "  2                  -1  1      6640  ultralytics.nn.modules.block.C3k2            [32, 64, 1, False, 0.25]      \n",
      "  3                  -1  1     36992  ultralytics.nn.modules.conv.Conv             [64, 64, 3, 2]                \n",
      "  4                  -1  1     26080  ultralytics.nn.modules.block.C3k2            [64, 128, 1, False, 0.25]     \n",
      "  5                  -1  1    147712  ultralytics.nn.modules.conv.Conv             [128, 128, 3, 2]              \n",
      "  6                  -1  1     87040  ultralytics.nn.modules.block.C3k2            [128, 128, 1, True]           \n",
      "  7                  -1  1    295424  ultralytics.nn.modules.conv.Conv             [128, 256, 3, 2]              \n",
      "  8                  -1  1    346112  ultralytics.nn.modules.block.C3k2            [256, 256, 1, True]           \n",
      "  9                  -1  1    164608  ultralytics.nn.modules.block.SPPF            [256, 256, 5]                 \n",
      " 10                  -1  1    249728  ultralytics.nn.modules.block.C2PSA           [256, 256, 1]                 \n",
      " 11                  -1  1         0  torch.nn.modules.upsampling.Upsample         [None, 2, 'nearest']          \n",
      " 12             [-1, 6]  1         0  ultralytics.nn.modules.conv.Concat           [1]                           \n",
      " 13                  -1  1    111296  ultralytics.nn.modules.block.C3k2            [384, 128, 1, False]          \n",
      " 14                  -1  1         0  torch.nn.modules.upsampling.Upsample         [None, 2, 'nearest']          \n",
      " 15             [-1, 4]  1         0  ultralytics.nn.modules.conv.Concat           [1]                           \n",
      " 16                  -1  1     32096  ultralytics.nn.modules.block.C3k2            [256, 64, 1, False]           \n",
      " 17                  -1  1     36992  ultralytics.nn.modules.conv.Conv             [64, 64, 3, 2]                \n",
      " 18            [-1, 13]  1         0  ultralytics.nn.modules.conv.Concat           [1]                           \n",
      " 19                  -1  1     86720  ultralytics.nn.modules.block.C3k2            [192, 128, 1, False]          \n",
      " 20                  -1  1    147712  ultralytics.nn.modules.conv.Conv             [128, 128, 3, 2]              \n",
      " 21            [-1, 10]  1         0  ultralytics.nn.modules.conv.Concat           [1]                           \n",
      " 22                  -1  1    378880  ultralytics.nn.modules.block.C3k2            [384, 256, 1, True]           \n",
      " 23        [16, 19, 22]  1    464912  ultralytics.nn.modules.head.Detect           [80, [64, 128, 256]]          \n",
      "YOLO11n summary: 181 layers, 2,624,080 parameters, 2,624,064 gradients, 6.6 GFLOPs\n",
      "\n",
      "Transferred 499/499 items from pretrained weights\n",
      "Freezing layer 'model.23.dfl.conv.weight'\n",
      "\u001b[34m\u001b[1mAMP: \u001b[0mrunning Automatic Mixed Precision (AMP) checks...\n",
      "\u001b[34m\u001b[1mAMP: \u001b[0mchecks passed ✅\n"
     ]
    },
    {
     "name": "stderr",
     "output_type": "stream",
     "text": [
      "\u001b[34m\u001b[1mtrain: \u001b[0mScanning /home/lukas-kurz/Desktop/autonomous_driving/intro_to_autonomous_vehicles_2025/datasets/coco/labels/train2017.cache... 117266 images, 1021 backgrounds, 0 corrupt: 100%|██████████| 118287/118287 [00:00<?, ?it/s]\n",
      "\u001b[34m\u001b[1mval: \u001b[0mScanning /home/lukas-kurz/Desktop/autonomous_driving/intro_to_autonomous_vehicles_2025/datasets/coco/labels/val2017.cache... 4952 images, 48 backgrounds, 0 corrupt: 100%|██████████| 5000/5000 [00:00<?, ?it/s]\n"
     ]
    },
    {
     "name": "stdout",
     "output_type": "stream",
     "text": [
      "Plotting labels to /home/lukas-kurz/Desktop/autonomous_driving/intro_to_autonomous_vehicles_2025/task1/runs/detect/train6/labels.jpg... \n",
      "\u001b[34m\u001b[1moptimizer:\u001b[0m 'optimizer=auto' found, ignoring 'lr0=0.01' and 'momentum=0.937' and determining best 'optimizer', 'lr0' and 'momentum' automatically... \n",
      "\u001b[34m\u001b[1moptimizer:\u001b[0m AdamW(lr=0.000119, momentum=0.9) with parameter groups 81 weight(decay=0.0), 88 weight(decay=0.0005), 87 bias(decay=0.0)\n",
      "Image sizes 320 train, 320 val\n",
      "Using 8 dataloader workers\n",
      "Logging results to \u001b[1m/home/lukas-kurz/Desktop/autonomous_driving/intro_to_autonomous_vehicles_2025/task1/runs/detect/train6\u001b[0m\n",
      "Starting training for 2 epochs...\n",
      "\n",
      "      Epoch    GPU_mem   box_loss   cls_loss   dfl_loss  Instances       Size\n"
     ]
    },
    {
     "name": "stderr",
     "output_type": "stream",
     "text": [
      "        1/2      2.92G      1.397      2.446      1.252        246        320:   3%|▎         | 253/7393 [00:32<15:07,  7.87it/s]\n"
     ]
    },
    {
     "ename": "KeyboardInterrupt",
     "evalue": "",
     "output_type": "error",
     "traceback": [
      "\u001b[31m---------------------------------------------------------------------------\u001b[39m",
      "\u001b[31mKeyboardInterrupt\u001b[39m                         Traceback (most recent call last)",
      "\u001b[36mCell\u001b[39m\u001b[36m \u001b[39m\u001b[32mIn[4]\u001b[39m\u001b[32m, line 5\u001b[39m\n\u001b[32m      2\u001b[39m model = YOLO(\u001b[33m\"\u001b[39m\u001b[33myolo11n.pt\u001b[39m\u001b[33m\"\u001b[39m)  \u001b[38;5;66;03m# load a pretrained model (recommended for training)\u001b[39;00m\n\u001b[32m      4\u001b[39m \u001b[38;5;66;03m# Train the model\u001b[39;00m\n\u001b[32m----> \u001b[39m\u001b[32m5\u001b[39m results = \u001b[43mmodel\u001b[49m\u001b[43m.\u001b[49m\u001b[43mtrain\u001b[49m\u001b[43m(\u001b[49m\u001b[43mdata\u001b[49m\u001b[43m=\u001b[49m\u001b[33;43m\"\u001b[39;49m\u001b[33;43mcoco.yaml\u001b[39;49m\u001b[33;43m\"\u001b[39;49m\u001b[43m,\u001b[49m\u001b[43m \u001b[49m\u001b[43mepochs\u001b[49m\u001b[43m=\u001b[49m\u001b[32;43m2\u001b[39;49m\u001b[43m,\u001b[49m\u001b[43m \u001b[49m\u001b[43mimgsz\u001b[49m\u001b[43m=\u001b[49m\u001b[32;43m320\u001b[39;49m\u001b[43m)\u001b[49m\n",
      "\u001b[36mFile \u001b[39m\u001b[32m~/Desktop/autonomous_driving/intro_to_autonomous_vehicles_2025/.conda/lib/python3.11/site-packages/ultralytics/engine/model.py:810\u001b[39m, in \u001b[36mModel.train\u001b[39m\u001b[34m(self, trainer, **kwargs)\u001b[39m\n\u001b[32m    807\u001b[39m     \u001b[38;5;28mself\u001b[39m.model = \u001b[38;5;28mself\u001b[39m.trainer.model\n\u001b[32m    809\u001b[39m \u001b[38;5;28mself\u001b[39m.trainer.hub_session = \u001b[38;5;28mself\u001b[39m.session  \u001b[38;5;66;03m# attach optional HUB session\u001b[39;00m\n\u001b[32m--> \u001b[39m\u001b[32m810\u001b[39m \u001b[38;5;28;43mself\u001b[39;49m\u001b[43m.\u001b[49m\u001b[43mtrainer\u001b[49m\u001b[43m.\u001b[49m\u001b[43mtrain\u001b[49m\u001b[43m(\u001b[49m\u001b[43m)\u001b[49m\n\u001b[32m    811\u001b[39m \u001b[38;5;66;03m# Update model and cfg after training\u001b[39;00m\n\u001b[32m    812\u001b[39m \u001b[38;5;28;01mif\u001b[39;00m RANK \u001b[38;5;129;01min\u001b[39;00m {-\u001b[32m1\u001b[39m, \u001b[32m0\u001b[39m}:\n",
      "\u001b[36mFile \u001b[39m\u001b[32m~/Desktop/autonomous_driving/intro_to_autonomous_vehicles_2025/.conda/lib/python3.11/site-packages/ultralytics/engine/trainer.py:208\u001b[39m, in \u001b[36mBaseTrainer.train\u001b[39m\u001b[34m(self)\u001b[39m\n\u001b[32m    205\u001b[39m         ddp_cleanup(\u001b[38;5;28mself\u001b[39m, \u001b[38;5;28mstr\u001b[39m(file))\n\u001b[32m    207\u001b[39m \u001b[38;5;28;01melse\u001b[39;00m:\n\u001b[32m--> \u001b[39m\u001b[32m208\u001b[39m     \u001b[38;5;28;43mself\u001b[39;49m\u001b[43m.\u001b[49m\u001b[43m_do_train\u001b[49m\u001b[43m(\u001b[49m\u001b[43mworld_size\u001b[49m\u001b[43m)\u001b[49m\n",
      "\u001b[36mFile \u001b[39m\u001b[32m~/Desktop/autonomous_driving/intro_to_autonomous_vehicles_2025/.conda/lib/python3.11/site-packages/ultralytics/engine/trainer.py:381\u001b[39m, in \u001b[36mBaseTrainer._do_train\u001b[39m\u001b[34m(self, world_size)\u001b[39m\n\u001b[32m    379\u001b[39m \u001b[38;5;28;01mwith\u001b[39;00m autocast(\u001b[38;5;28mself\u001b[39m.amp):\n\u001b[32m    380\u001b[39m     batch = \u001b[38;5;28mself\u001b[39m.preprocess_batch(batch)\n\u001b[32m--> \u001b[39m\u001b[32m381\u001b[39m     \u001b[38;5;28mself\u001b[39m.loss, \u001b[38;5;28mself\u001b[39m.loss_items = \u001b[38;5;28;43mself\u001b[39;49m\u001b[43m.\u001b[49m\u001b[43mmodel\u001b[49m\u001b[43m(\u001b[49m\u001b[43mbatch\u001b[49m\u001b[43m)\u001b[49m\n\u001b[32m    382\u001b[39m     \u001b[38;5;28;01mif\u001b[39;00m RANK != -\u001b[32m1\u001b[39m:\n\u001b[32m    383\u001b[39m         \u001b[38;5;28mself\u001b[39m.loss *= world_size\n",
      "\u001b[36mFile \u001b[39m\u001b[32m~/Desktop/autonomous_driving/intro_to_autonomous_vehicles_2025/.conda/lib/python3.11/site-packages/torch/nn/modules/module.py:1739\u001b[39m, in \u001b[36mModule._wrapped_call_impl\u001b[39m\u001b[34m(self, *args, **kwargs)\u001b[39m\n\u001b[32m   1737\u001b[39m     \u001b[38;5;28;01mreturn\u001b[39;00m \u001b[38;5;28mself\u001b[39m._compiled_call_impl(*args, **kwargs)  \u001b[38;5;66;03m# type: ignore[misc]\u001b[39;00m\n\u001b[32m   1738\u001b[39m \u001b[38;5;28;01melse\u001b[39;00m:\n\u001b[32m-> \u001b[39m\u001b[32m1739\u001b[39m     \u001b[38;5;28;01mreturn\u001b[39;00m \u001b[38;5;28;43mself\u001b[39;49m\u001b[43m.\u001b[49m\u001b[43m_call_impl\u001b[49m\u001b[43m(\u001b[49m\u001b[43m*\u001b[49m\u001b[43margs\u001b[49m\u001b[43m,\u001b[49m\u001b[43m \u001b[49m\u001b[43m*\u001b[49m\u001b[43m*\u001b[49m\u001b[43mkwargs\u001b[49m\u001b[43m)\u001b[49m\n",
      "\u001b[36mFile \u001b[39m\u001b[32m~/Desktop/autonomous_driving/intro_to_autonomous_vehicles_2025/.conda/lib/python3.11/site-packages/torch/nn/modules/module.py:1750\u001b[39m, in \u001b[36mModule._call_impl\u001b[39m\u001b[34m(self, *args, **kwargs)\u001b[39m\n\u001b[32m   1745\u001b[39m \u001b[38;5;66;03m# If we don't have any hooks, we want to skip the rest of the logic in\u001b[39;00m\n\u001b[32m   1746\u001b[39m \u001b[38;5;66;03m# this function, and just call forward.\u001b[39;00m\n\u001b[32m   1747\u001b[39m \u001b[38;5;28;01mif\u001b[39;00m \u001b[38;5;129;01mnot\u001b[39;00m (\u001b[38;5;28mself\u001b[39m._backward_hooks \u001b[38;5;129;01mor\u001b[39;00m \u001b[38;5;28mself\u001b[39m._backward_pre_hooks \u001b[38;5;129;01mor\u001b[39;00m \u001b[38;5;28mself\u001b[39m._forward_hooks \u001b[38;5;129;01mor\u001b[39;00m \u001b[38;5;28mself\u001b[39m._forward_pre_hooks\n\u001b[32m   1748\u001b[39m         \u001b[38;5;129;01mor\u001b[39;00m _global_backward_pre_hooks \u001b[38;5;129;01mor\u001b[39;00m _global_backward_hooks\n\u001b[32m   1749\u001b[39m         \u001b[38;5;129;01mor\u001b[39;00m _global_forward_hooks \u001b[38;5;129;01mor\u001b[39;00m _global_forward_pre_hooks):\n\u001b[32m-> \u001b[39m\u001b[32m1750\u001b[39m     \u001b[38;5;28;01mreturn\u001b[39;00m \u001b[43mforward_call\u001b[49m\u001b[43m(\u001b[49m\u001b[43m*\u001b[49m\u001b[43margs\u001b[49m\u001b[43m,\u001b[49m\u001b[43m \u001b[49m\u001b[43m*\u001b[49m\u001b[43m*\u001b[49m\u001b[43mkwargs\u001b[49m\u001b[43m)\u001b[49m\n\u001b[32m   1752\u001b[39m result = \u001b[38;5;28;01mNone\u001b[39;00m\n\u001b[32m   1753\u001b[39m called_always_called_hooks = \u001b[38;5;28mset\u001b[39m()\n",
      "\u001b[36mFile \u001b[39m\u001b[32m~/Desktop/autonomous_driving/intro_to_autonomous_vehicles_2025/.conda/lib/python3.11/site-packages/ultralytics/nn/tasks.py:113\u001b[39m, in \u001b[36mBaseModel.forward\u001b[39m\u001b[34m(self, x, *args, **kwargs)\u001b[39m\n\u001b[32m     99\u001b[39m \u001b[38;5;250m\u001b[39m\u001b[33;03m\"\"\"\u001b[39;00m\n\u001b[32m    100\u001b[39m \u001b[33;03mPerform forward pass of the model for either training or inference.\u001b[39;00m\n\u001b[32m    101\u001b[39m \n\u001b[32m   (...)\u001b[39m\u001b[32m    110\u001b[39m \u001b[33;03m    (torch.Tensor): Loss if x is a dict (training), or network predictions (inference).\u001b[39;00m\n\u001b[32m    111\u001b[39m \u001b[33;03m\"\"\"\u001b[39;00m\n\u001b[32m    112\u001b[39m \u001b[38;5;28;01mif\u001b[39;00m \u001b[38;5;28misinstance\u001b[39m(x, \u001b[38;5;28mdict\u001b[39m):  \u001b[38;5;66;03m# for cases of training and validating while training.\u001b[39;00m\n\u001b[32m--> \u001b[39m\u001b[32m113\u001b[39m     \u001b[38;5;28;01mreturn\u001b[39;00m \u001b[38;5;28;43mself\u001b[39;49m\u001b[43m.\u001b[49m\u001b[43mloss\u001b[49m\u001b[43m(\u001b[49m\u001b[43mx\u001b[49m\u001b[43m,\u001b[49m\u001b[43m \u001b[49m\u001b[43m*\u001b[49m\u001b[43margs\u001b[49m\u001b[43m,\u001b[49m\u001b[43m \u001b[49m\u001b[43m*\u001b[49m\u001b[43m*\u001b[49m\u001b[43mkwargs\u001b[49m\u001b[43m)\u001b[49m\n\u001b[32m    114\u001b[39m \u001b[38;5;28;01mreturn\u001b[39;00m \u001b[38;5;28mself\u001b[39m.predict(x, *args, **kwargs)\n",
      "\u001b[36mFile \u001b[39m\u001b[32m~/Desktop/autonomous_driving/intro_to_autonomous_vehicles_2025/.conda/lib/python3.11/site-packages/ultralytics/nn/tasks.py:292\u001b[39m, in \u001b[36mBaseModel.loss\u001b[39m\u001b[34m(self, batch, preds)\u001b[39m\n\u001b[32m    289\u001b[39m     \u001b[38;5;28mself\u001b[39m.criterion = \u001b[38;5;28mself\u001b[39m.init_criterion()\n\u001b[32m    291\u001b[39m preds = \u001b[38;5;28mself\u001b[39m.forward(batch[\u001b[33m\"\u001b[39m\u001b[33mimg\u001b[39m\u001b[33m\"\u001b[39m]) \u001b[38;5;28;01mif\u001b[39;00m preds \u001b[38;5;129;01mis\u001b[39;00m \u001b[38;5;28;01mNone\u001b[39;00m \u001b[38;5;28;01melse\u001b[39;00m preds\n\u001b[32m--> \u001b[39m\u001b[32m292\u001b[39m \u001b[38;5;28;01mreturn\u001b[39;00m \u001b[38;5;28;43mself\u001b[39;49m\u001b[43m.\u001b[49m\u001b[43mcriterion\u001b[49m\u001b[43m(\u001b[49m\u001b[43mpreds\u001b[49m\u001b[43m,\u001b[49m\u001b[43m \u001b[49m\u001b[43mbatch\u001b[49m\u001b[43m)\u001b[49m\n",
      "\u001b[36mFile \u001b[39m\u001b[32m~/Desktop/autonomous_driving/intro_to_autonomous_vehicles_2025/.conda/lib/python3.11/site-packages/ultralytics/utils/loss.py:252\u001b[39m, in \u001b[36mv8DetectionLoss.__call__\u001b[39m\u001b[34m(self, preds, batch)\u001b[39m\n\u001b[32m    250\u001b[39m \u001b[38;5;28;01mif\u001b[39;00m fg_mask.sum():\n\u001b[32m    251\u001b[39m     target_bboxes /= stride_tensor\n\u001b[32m--> \u001b[39m\u001b[32m252\u001b[39m     loss[\u001b[32m0\u001b[39m], loss[\u001b[32m2\u001b[39m] = \u001b[38;5;28;43mself\u001b[39;49m\u001b[43m.\u001b[49m\u001b[43mbbox_loss\u001b[49m\u001b[43m(\u001b[49m\n\u001b[32m    253\u001b[39m \u001b[43m        \u001b[49m\u001b[43mpred_distri\u001b[49m\u001b[43m,\u001b[49m\u001b[43m \u001b[49m\u001b[43mpred_bboxes\u001b[49m\u001b[43m,\u001b[49m\u001b[43m \u001b[49m\u001b[43manchor_points\u001b[49m\u001b[43m,\u001b[49m\u001b[43m \u001b[49m\u001b[43mtarget_bboxes\u001b[49m\u001b[43m,\u001b[49m\u001b[43m \u001b[49m\u001b[43mtarget_scores\u001b[49m\u001b[43m,\u001b[49m\u001b[43m \u001b[49m\u001b[43mtarget_scores_sum\u001b[49m\u001b[43m,\u001b[49m\u001b[43m \u001b[49m\u001b[43mfg_mask\u001b[49m\n\u001b[32m    254\u001b[39m \u001b[43m    \u001b[49m\u001b[43m)\u001b[49m\n\u001b[32m    256\u001b[39m loss[\u001b[32m0\u001b[39m] *= \u001b[38;5;28mself\u001b[39m.hyp.box  \u001b[38;5;66;03m# box gain\u001b[39;00m\n\u001b[32m    257\u001b[39m loss[\u001b[32m1\u001b[39m] *= \u001b[38;5;28mself\u001b[39m.hyp.cls  \u001b[38;5;66;03m# cls gain\u001b[39;00m\n",
      "\u001b[36mFile \u001b[39m\u001b[32m~/Desktop/autonomous_driving/intro_to_autonomous_vehicles_2025/.conda/lib/python3.11/site-packages/torch/nn/modules/module.py:1735\u001b[39m, in \u001b[36mModule._wrapped_call_impl\u001b[39m\u001b[34m(self, *args, **kwargs)\u001b[39m\n\u001b[32m   1732\u001b[39m             tracing_state.pop_scope()\n\u001b[32m   1733\u001b[39m     \u001b[38;5;28;01mreturn\u001b[39;00m result\n\u001b[32m-> \u001b[39m\u001b[32m1735\u001b[39m \u001b[38;5;28;01mdef\u001b[39;00m\u001b[38;5;250m \u001b[39m\u001b[34m_wrapped_call_impl\u001b[39m(\u001b[38;5;28mself\u001b[39m, *args, **kwargs):\n\u001b[32m   1736\u001b[39m     \u001b[38;5;28;01mif\u001b[39;00m \u001b[38;5;28mself\u001b[39m._compiled_call_impl \u001b[38;5;129;01mis\u001b[39;00m \u001b[38;5;129;01mnot\u001b[39;00m \u001b[38;5;28;01mNone\u001b[39;00m:\n\u001b[32m   1737\u001b[39m         \u001b[38;5;28;01mreturn\u001b[39;00m \u001b[38;5;28mself\u001b[39m._compiled_call_impl(*args, **kwargs)  \u001b[38;5;66;03m# type: ignore[misc]\u001b[39;00m\n",
      "\u001b[31mKeyboardInterrupt\u001b[39m: "
     ]
    }
   ],
   "source": [
    "# Load a model\n",
    "model = YOLO(\"yolo11n.pt\")  # load a pretrained model (recommended for training)\n",
    "\n",
    "# Train the model\n",
    "results = model.train(data=\"coco.yaml\", epochs=2, imgsz=128)"
   ]
  },
  {
   "cell_type": "markdown",
   "id": "e33eda81",
   "metadata": {},
   "source": [
    "## Evaluation"
   ]
  },
  {
   "cell_type": "markdown",
   "id": "112d983a",
   "metadata": {},
   "source": []
  },
  {
   "cell_type": "markdown",
   "id": "8696a834",
   "metadata": {},
   "source": [
    "TODO evaluate the model, consult this website.\n",
    "\n",
    "https://docs.ultralytics.com/modes/val/"
   ]
  },
  {
   "cell_type": "code",
   "execution_count": 8,
   "id": "6c976c78",
   "metadata": {},
   "outputs": [
    {
     "name": "stdout",
     "output_type": "stream",
     "text": [
      "Ultralytics 8.3.86 🚀 Python-3.11.11 torch-2.6.0+cu124 CUDA:0 (NVIDIA GeForce GTX 1080 Ti, 11143MiB)\n",
      "YOLO11n summary (fused): 100 layers, 2,616,248 parameters, 31,920 gradients, 6.5 GFLOPs\n"
     ]
    },
    {
     "ename": "FileNotFoundError",
     "evalue": "'/usr/src/ultralytics/ultralytics/cfg/datasets/coco.yaml' does not exist",
     "output_type": "error",
     "traceback": [
      "\u001b[31m---------------------------------------------------------------------------\u001b[39m",
      "\u001b[31mFileNotFoundError\u001b[39m                         Traceback (most recent call last)",
      "\u001b[36mCell\u001b[39m\u001b[36m \u001b[39m\u001b[32mIn[8]\u001b[39m\u001b[32m, line 2\u001b[39m\n\u001b[32m      1\u001b[39m \u001b[38;5;66;03m# Validate the model\u001b[39;00m\n\u001b[32m----> \u001b[39m\u001b[32m2\u001b[39m metrics = \u001b[43mmodel\u001b[49m\u001b[43m.\u001b[49m\u001b[43mval\u001b[49m\u001b[43m(\u001b[49m\u001b[43m)\u001b[49m  \u001b[38;5;66;03m# no arguments needed, dataset and settings remembered\u001b[39;00m\n\u001b[32m      3\u001b[39m metrics.box.map  \u001b[38;5;66;03m# map50-95\u001b[39;00m\n\u001b[32m      4\u001b[39m metrics.box.map50  \u001b[38;5;66;03m# map50\u001b[39;00m\n",
      "\u001b[36mFile \u001b[39m\u001b[32m~/Desktop/autonomous_driving/intro_to_autonomous_vehicles_2025/.conda/lib/python3.11/site-packages/ultralytics/engine/model.py:641\u001b[39m, in \u001b[36mModel.val\u001b[39m\u001b[34m(self, validator, **kwargs)\u001b[39m\n\u001b[32m    638\u001b[39m args = {**\u001b[38;5;28mself\u001b[39m.overrides, **custom, **kwargs, \u001b[33m\"\u001b[39m\u001b[33mmode\u001b[39m\u001b[33m\"\u001b[39m: \u001b[33m\"\u001b[39m\u001b[33mval\u001b[39m\u001b[33m\"\u001b[39m}  \u001b[38;5;66;03m# highest priority args on the right\u001b[39;00m\n\u001b[32m    640\u001b[39m validator = (validator \u001b[38;5;129;01mor\u001b[39;00m \u001b[38;5;28mself\u001b[39m._smart_load(\u001b[33m\"\u001b[39m\u001b[33mvalidator\u001b[39m\u001b[33m\"\u001b[39m))(args=args, _callbacks=\u001b[38;5;28mself\u001b[39m.callbacks)\n\u001b[32m--> \u001b[39m\u001b[32m641\u001b[39m \u001b[43mvalidator\u001b[49m\u001b[43m(\u001b[49m\u001b[43mmodel\u001b[49m\u001b[43m=\u001b[49m\u001b[38;5;28;43mself\u001b[39;49m\u001b[43m.\u001b[49m\u001b[43mmodel\u001b[49m\u001b[43m)\u001b[49m\n\u001b[32m    642\u001b[39m \u001b[38;5;28mself\u001b[39m.metrics = validator.metrics\n\u001b[32m    643\u001b[39m \u001b[38;5;28;01mreturn\u001b[39;00m validator.metrics\n",
      "\u001b[36mFile \u001b[39m\u001b[32m~/Desktop/autonomous_driving/intro_to_autonomous_vehicles_2025/.conda/lib/python3.11/site-packages/torch/utils/_contextlib.py:116\u001b[39m, in \u001b[36mcontext_decorator.<locals>.decorate_context\u001b[39m\u001b[34m(*args, **kwargs)\u001b[39m\n\u001b[32m    113\u001b[39m \u001b[38;5;129m@functools\u001b[39m.wraps(func)\n\u001b[32m    114\u001b[39m \u001b[38;5;28;01mdef\u001b[39;00m\u001b[38;5;250m \u001b[39m\u001b[34mdecorate_context\u001b[39m(*args, **kwargs):\n\u001b[32m    115\u001b[39m     \u001b[38;5;28;01mwith\u001b[39;00m ctx_factory():\n\u001b[32m--> \u001b[39m\u001b[32m116\u001b[39m         \u001b[38;5;28;01mreturn\u001b[39;00m \u001b[43mfunc\u001b[49m\u001b[43m(\u001b[49m\u001b[43m*\u001b[49m\u001b[43margs\u001b[49m\u001b[43m,\u001b[49m\u001b[43m \u001b[49m\u001b[43m*\u001b[49m\u001b[43m*\u001b[49m\u001b[43mkwargs\u001b[49m\u001b[43m)\u001b[49m\n",
      "\u001b[36mFile \u001b[39m\u001b[32m~/Desktop/autonomous_driving/intro_to_autonomous_vehicles_2025/.conda/lib/python3.11/site-packages/ultralytics/engine/validator.py:147\u001b[39m, in \u001b[36mBaseValidator.__call__\u001b[39m\u001b[34m(self, trainer, model)\u001b[39m\n\u001b[32m    144\u001b[39m     LOGGER.info(\u001b[33mf\u001b[39m\u001b[33m\"\u001b[39m\u001b[33mSetting batch=\u001b[39m\u001b[38;5;132;01m{\u001b[39;00m\u001b[38;5;28mself\u001b[39m.args.batch\u001b[38;5;132;01m}\u001b[39;00m\u001b[33m input of shape (\u001b[39m\u001b[38;5;132;01m{\u001b[39;00m\u001b[38;5;28mself\u001b[39m.args.batch\u001b[38;5;132;01m}\u001b[39;00m\u001b[33m, 3, \u001b[39m\u001b[38;5;132;01m{\u001b[39;00mimgsz\u001b[38;5;132;01m}\u001b[39;00m\u001b[33m, \u001b[39m\u001b[38;5;132;01m{\u001b[39;00mimgsz\u001b[38;5;132;01m}\u001b[39;00m\u001b[33m)\u001b[39m\u001b[33m\"\u001b[39m)\n\u001b[32m    146\u001b[39m \u001b[38;5;28;01mif\u001b[39;00m \u001b[38;5;28mstr\u001b[39m(\u001b[38;5;28mself\u001b[39m.args.data).split(\u001b[33m\"\u001b[39m\u001b[33m.\u001b[39m\u001b[33m\"\u001b[39m)[-\u001b[32m1\u001b[39m] \u001b[38;5;129;01min\u001b[39;00m {\u001b[33m\"\u001b[39m\u001b[33myaml\u001b[39m\u001b[33m\"\u001b[39m, \u001b[33m\"\u001b[39m\u001b[33myml\u001b[39m\u001b[33m\"\u001b[39m}:\n\u001b[32m--> \u001b[39m\u001b[32m147\u001b[39m     \u001b[38;5;28mself\u001b[39m.data = \u001b[43mcheck_det_dataset\u001b[49m\u001b[43m(\u001b[49m\u001b[38;5;28;43mself\u001b[39;49m\u001b[43m.\u001b[49m\u001b[43margs\u001b[49m\u001b[43m.\u001b[49m\u001b[43mdata\u001b[49m\u001b[43m)\u001b[49m\n\u001b[32m    148\u001b[39m \u001b[38;5;28;01melif\u001b[39;00m \u001b[38;5;28mself\u001b[39m.args.task == \u001b[33m\"\u001b[39m\u001b[33mclassify\u001b[39m\u001b[33m\"\u001b[39m:\n\u001b[32m    149\u001b[39m     \u001b[38;5;28mself\u001b[39m.data = check_cls_dataset(\u001b[38;5;28mself\u001b[39m.args.data, split=\u001b[38;5;28mself\u001b[39m.args.split)\n",
      "\u001b[36mFile \u001b[39m\u001b[32m~/Desktop/autonomous_driving/intro_to_autonomous_vehicles_2025/.conda/lib/python3.11/site-packages/ultralytics/data/utils.py:316\u001b[39m, in \u001b[36mcheck_det_dataset\u001b[39m\u001b[34m(dataset, autodownload)\u001b[39m\n\u001b[32m    301\u001b[39m \u001b[38;5;28;01mdef\u001b[39;00m\u001b[38;5;250m \u001b[39m\u001b[34mcheck_det_dataset\u001b[39m(dataset, autodownload=\u001b[38;5;28;01mTrue\u001b[39;00m):\n\u001b[32m    302\u001b[39m \u001b[38;5;250m    \u001b[39m\u001b[33;03m\"\"\"\u001b[39;00m\n\u001b[32m    303\u001b[39m \u001b[33;03m    Download, verify, and/or unzip a dataset if not found locally.\u001b[39;00m\n\u001b[32m    304\u001b[39m \n\u001b[32m   (...)\u001b[39m\u001b[32m    314\u001b[39m \u001b[33;03m        (dict): Parsed dataset information and paths.\u001b[39;00m\n\u001b[32m    315\u001b[39m \u001b[33;03m    \"\"\"\u001b[39;00m\n\u001b[32m--> \u001b[39m\u001b[32m316\u001b[39m     file = \u001b[43mcheck_file\u001b[49m\u001b[43m(\u001b[49m\u001b[43mdataset\u001b[49m\u001b[43m)\u001b[49m\n\u001b[32m    318\u001b[39m     \u001b[38;5;66;03m# Download (optional)\u001b[39;00m\n\u001b[32m    319\u001b[39m     extract_dir = \u001b[33m\"\u001b[39m\u001b[33m\"\u001b[39m\n",
      "\u001b[36mFile \u001b[39m\u001b[32m~/Desktop/autonomous_driving/intro_to_autonomous_vehicles_2025/.conda/lib/python3.11/site-packages/ultralytics/utils/checks.py:522\u001b[39m, in \u001b[36mcheck_file\u001b[39m\u001b[34m(file, suffix, download, download_dir, hard)\u001b[39m\n\u001b[32m    520\u001b[39m files = glob.glob(\u001b[38;5;28mstr\u001b[39m(ROOT / \u001b[33m\"\u001b[39m\u001b[33m**\u001b[39m\u001b[33m\"\u001b[39m / file), recursive=\u001b[38;5;28;01mTrue\u001b[39;00m) \u001b[38;5;129;01mor\u001b[39;00m glob.glob(\u001b[38;5;28mstr\u001b[39m(ROOT.parent / file))  \u001b[38;5;66;03m# find file\u001b[39;00m\n\u001b[32m    521\u001b[39m \u001b[38;5;28;01mif\u001b[39;00m \u001b[38;5;129;01mnot\u001b[39;00m files \u001b[38;5;129;01mand\u001b[39;00m hard:\n\u001b[32m--> \u001b[39m\u001b[32m522\u001b[39m     \u001b[38;5;28;01mraise\u001b[39;00m \u001b[38;5;167;01mFileNotFoundError\u001b[39;00m(\u001b[33mf\u001b[39m\u001b[33m\"\u001b[39m\u001b[33m'\u001b[39m\u001b[38;5;132;01m{\u001b[39;00mfile\u001b[38;5;132;01m}\u001b[39;00m\u001b[33m'\u001b[39m\u001b[33m does not exist\u001b[39m\u001b[33m\"\u001b[39m)\n\u001b[32m    523\u001b[39m \u001b[38;5;28;01melif\u001b[39;00m \u001b[38;5;28mlen\u001b[39m(files) > \u001b[32m1\u001b[39m \u001b[38;5;129;01mand\u001b[39;00m hard:\n\u001b[32m    524\u001b[39m     \u001b[38;5;28;01mraise\u001b[39;00m \u001b[38;5;167;01mFileNotFoundError\u001b[39;00m(\u001b[33mf\u001b[39m\u001b[33m\"\u001b[39m\u001b[33mMultiple files match \u001b[39m\u001b[33m'\u001b[39m\u001b[38;5;132;01m{\u001b[39;00mfile\u001b[38;5;132;01m}\u001b[39;00m\u001b[33m'\u001b[39m\u001b[33m, specify exact path: \u001b[39m\u001b[38;5;132;01m{\u001b[39;00mfiles\u001b[38;5;132;01m}\u001b[39;00m\u001b[33m\"\u001b[39m)\n",
      "\u001b[31mFileNotFoundError\u001b[39m: '/usr/src/ultralytics/ultralytics/cfg/datasets/coco.yaml' does not exist"
     ]
    }
   ],
   "source": [
    "# Validate the model\n",
    "metrics = model.val()  # no arguments needed, dataset and settings remembered\n",
    "metrics.box.map  # map50-95\n",
    "metrics.box.map50  # map50\n",
    "metrics.box.map75  # map75\n",
    "metrics.box.maps  # a list contains map50-95 of each category"
   ]
  },
  {
   "cell_type": "code",
   "execution_count": null,
   "id": "edbea350",
   "metadata": {},
   "outputs": [],
   "source": []
  },
  {
   "cell_type": "markdown",
   "id": "2811d5e4",
   "metadata": {},
   "source": [
    "## Video Prediction"
   ]
  },
  {
   "cell_type": "markdown",
   "id": "822959f0",
   "metadata": {},
   "source": [
    "For our task, we should create an annotate result from some video. With this, we should use a video of road traffic, which we then annotate with our trained model, image by image, comparing different trained models."
   ]
  },
  {
   "cell_type": "code",
   "execution_count": null,
   "id": "66469e72",
   "metadata": {},
   "outputs": [],
   "source": [
    "from ultralytics import YOLO\n",
    "\n",
    "# Load a model\n",
    "model = YOLO(\"yolo11n.pt\")  # pretrained YOLO11n model\n",
    "\n",
    "# Run batched inference on a list of images\n",
    "results = model([\"image1.jpg\", \"image2.jpg\"])  # return a list of Results objects\n",
    "\n",
    "# Process results list\n",
    "for result in results:\n",
    "    boxes = result.boxes  # Boxes object for bounding box outputs\n",
    "    masks = result.masks  # Masks object for segmentation masks outputs\n",
    "    keypoints = result.keypoints  # Keypoints object for pose outputs\n",
    "    probs = result.probs  # Probs object for classification outputs\n",
    "    obb = result.obb  # Oriented boxes object for OBB outputs\n",
    "    result.show()  # display to screen\n",
    "    result.save(filename=\"result.jpg\")  # save to disk"
   ]
  }
 ],
 "metadata": {
  "kernelspec": {
   "display_name": "Python 3",
   "language": "python",
   "name": "python3"
  },
  "language_info": {
   "codemirror_mode": {
    "name": "ipython",
    "version": 3
   },
   "file_extension": ".py",
   "mimetype": "text/x-python",
   "name": "python",
   "nbconvert_exporter": "python",
   "pygments_lexer": "ipython3",
   "version": "3.11.11"
  }
 },
 "nbformat": 4,
 "nbformat_minor": 5
}

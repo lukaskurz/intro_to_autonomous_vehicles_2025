{
 "cells": [
  {
   "cell_type": "markdown",
   "id": "96f21f81",
   "metadata": {},
   "source": [
    "# Introduction to autonomous vehicles - Task 1 Perception\n",
    "\n",
    "## Task Description\n",
    "\n",
    "Select a Dataset of road traffic containing annotated objects. \n",
    "Please select a method and use this dataset to train a model to detect and classify **Pedestrians, Cyclists and Vehicles** on a Video Clip. \n",
    "The video clip could be from the dataset or from other sources.\n",
    "\n",
    "**Available Datasets:**\n",
    "\n",
    "- [KITTI Dataset](https://www.cvlibs.net/datasets/kitti/eval_object.php?obj_benchmark)\n",
    "- [COCO Dataset](https://cocodataset.org/)\n",
    "- [Waymo Dataset](https://console.cloud.google.com/storage/browser/waymo_open_dataset_v_1_2_0_individual_files)\n",
    "  - **Note:** You might have to first register [here](https://waymo.com/open/) to get access to the dataset.\n",
    "\n",
    "**Rules:**\n",
    "\n",
    "- Use whatever framework you prefer (Pytroch, Tensorflow, ultralytics, etc.)\n",
    "- Recommended to use any version of YOLO\n",
    "- Use the code from the GitHub repository of the previous mentioned or other published methods (e.g. https://github.com/ultralytics/yolov3)\n",
    "- Use pretrained weights\n",
    "  - **Note:** You can use the pretrained weights, but you have to train and adapt them to your dataset."
   ]
  },
  {
   "cell_type": "code",
   "execution_count": null,
   "id": "e2201dac",
   "metadata": {},
   "outputs": [],
   "source": [
    "!pip install torch torchvision torchaudio\n",
    "!pip install ipykernel\n",
    "!pip install jupyterlab\n",
    "!pip install pandas\n",
    "!pip install numpy\n",
    "!pip install matplotlib\n",
    "!pip install scikit-learn\n",
    "!pip install seaborn"
   ]
  },
  {
   "cell_type": "code",
   "execution_count": null,
   "id": "f71e07d2",
   "metadata": {},
   "outputs": [],
   "source": [
    "from pycocotools.coco import COCO\n",
    "import matplotlib.pyplot as plt\n",
    "import numpy as np\n",
    "import cv2\n",
    "import random\n",
    "import os\n",
    "\n",
    "# Path to COCO annotations file (change to your dataset path)\n",
    "ann_file = \"datasets/coco/annotations/instances_val2017.json\"\n",
    "img_dir = \"datasets/coco/val2017\"\n",
    "\n",
    "# Load COCO dataset\n",
    "coco = COCO(ann_file)\n",
    "\n",
    "# Get all category names\n",
    "categories = coco.loadCats(coco.getCatIds())\n",
    "category_names = [cat['name'] for cat in categories]\n",
    "print(f\"COCO Categories: {category_names}\")"
   ]
  },
  {
   "cell_type": "code",
   "execution_count": null,
   "id": "708042bd-bedb-497c-bb5b-572094f6635e",
   "metadata": {},
   "outputs": [],
   "source": [
    "from collections import Counter\n",
    "import matplotlib.pyplot as plt\n",
    "\n",
    "# Define the categories we want to include\n",
    "desired_classes = [\"person\", \"bicycle\", \"car\", \"motorcycle\", \"bus\", \"train\", \"truck\", \"cat\", \"dog\", \"horse\", \"cow\"]\n",
    "\n",
    "# Get the category IDs for the desired classes\n",
    "desired_cat_ids = [cat['id'] for cat in coco.cats.values() if cat['name'] in desired_classes]\n",
    "\n",
    "# Count instances for only these categories\n",
    "category_counts = Counter()\n",
    "\n",
    "for ann in coco.anns.values():\n",
    "    if ann[\"category_id\"] in desired_cat_ids:\n",
    "        category_counts[ann[\"category_id\"]] += 1\n",
    "\n",
    "# Convert category IDs to names\n",
    "category_names = [coco.cats[cat_id][\"name\"] for cat_id in category_counts.keys()]\n",
    "category_values = list(category_counts.values())\n",
    "\n",
    "# Plot bar chart\n",
    "plt.figure(figsize=(12, 6))\n",
    "plt.barh(category_names, category_values, color=\"skyblue\")\n",
    "plt.xlabel(\"Number of Instances\")\n",
    "plt.ylabel(\"Category\")\n",
    "plt.title(\"Filtered COCO Dataset - Selected Categories\")\n",
    "plt.gca().invert_yaxis()\n",
    "plt.show()"
   ]
  }
 ],
 "metadata": {
  "kernelspec": {
   "display_name": "Python (myenv)",
   "language": "python",
   "name": "python3"
  },
  "language_info": {
   "codemirror_mode": {
    "name": "ipython",
    "version": 3
   },
   "file_extension": ".py",
   "mimetype": "text/x-python",
   "name": "python",
   "nbconvert_exporter": "python",
   "pygments_lexer": "ipython3",
   "version": "3.11.11"
  }
 },
 "nbformat": 4,
 "nbformat_minor": 5
}
